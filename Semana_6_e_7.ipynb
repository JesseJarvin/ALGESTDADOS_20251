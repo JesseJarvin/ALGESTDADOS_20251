{
  "nbformat": 4,
  "nbformat_minor": 0,
  "metadata": {
    "colab": {
      "provenance": [],
      "authorship_tag": "ABX9TyPyGhogkZCAVf3SrLMWM6RB",
      "include_colab_link": true
    },
    "kernelspec": {
      "name": "python3",
      "display_name": "Python 3"
    },
    "language_info": {
      "name": "python"
    }
  },
  "cells": [
    {
      "cell_type": "markdown",
      "metadata": {
        "id": "view-in-github",
        "colab_type": "text"
      },
      "source": [
        "<a href=\"https://colab.research.google.com/github/JesseJarvin/ALGESTDADOS_20251/blob/main/Semana_6_e_7.ipynb\" target=\"_parent\"><img src=\"https://colab.research.google.com/assets/colab-badge.svg\" alt=\"Open In Colab\"/></a>"
      ]
    },
    {
      "cell_type": "code",
      "execution_count": null,
      "metadata": {
        "colab": {
          "base_uri": "https://localhost:8080/"
        },
        "id": "zQKsylb0YWm7",
        "outputId": "680f6501-6fc4-4c9f-851a-8daf4e49ce77"
      },
      "outputs": [
        {
          "output_type": "stream",
          "name": "stdout",
          "text": [
            "1\n",
            "2\n",
            "3\n",
            "4\n",
            "5\n",
            "6\n",
            "7\n",
            "8\n",
            "9\n",
            "10\n"
          ]
        }
      ],
      "source": [
        "# 1. Escreva um programa que imprima os números de 1 a 10 utilizando um loop while.\n",
        "\n",
        "contador = 1\n",
        "while contador <= 10:\n",
        "  print(contador)\n",
        "  contador += 1"
      ]
    },
    {
      "cell_type": "code",
      "source": [
        "# 2. Escreva um programa que imprima os números de 1 a 10 utilizando um loop for com range().\n",
        "\n",
        "for i in range(1, 11, 1):\n",
        " print(i)"
      ],
      "metadata": {
        "colab": {
          "base_uri": "https://localhost:8080/"
        },
        "id": "PXVUbcneZTSK",
        "outputId": "573b7bd2-8ff8-494b-ca26-e5de40ad6449"
      },
      "execution_count": null,
      "outputs": [
        {
          "output_type": "stream",
          "name": "stdout",
          "text": [
            "1\n",
            "2\n",
            "3\n",
            "4\n",
            "5\n",
            "6\n",
            "7\n",
            "8\n",
            "9\n",
            "10\n"
          ]
        }
      ]
    },
    {
      "cell_type": "code",
      "source": [
        "# 3. Crie um loop for que percorra uma lista de frutas e imprima cada uma delas.\n",
        "\n",
        "lista = [\"abacaxi\", \"banana\", \"carambola\"]\n",
        "for i in range (len(lista)):\n",
        "  indice = i + 1\n",
        "  print(f'{indice}: {lista[i]}')"
      ],
      "metadata": {
        "colab": {
          "base_uri": "https://localhost:8080/"
        },
        "id": "jV0QI3PEZW95",
        "outputId": "f7d91293-6613-489a-9075-f97192320ca7"
      },
      "execution_count": null,
      "outputs": [
        {
          "output_type": "stream",
          "name": "stdout",
          "text": [
            "1: abacaxi\n",
            "2: banana\n",
            "3: carambola\n"
          ]
        }
      ]
    },
    {
      "cell_type": "code",
      "source": [
        "# 4. Utilize um while para imprimir os números pares de 0 a 20.\n",
        "\n",
        "n = 0\n",
        "while n <= 20:\n",
        "  if n % 2 == 0:\n",
        "    print(n)\n",
        "  n += 1"
      ],
      "metadata": {
        "colab": {
          "base_uri": "https://localhost:8080/"
        },
        "id": "70357kI6ZZIJ",
        "outputId": "f5da1758-ba5f-4c52-c7dd-a61eec662dde"
      },
      "execution_count": null,
      "outputs": [
        {
          "output_type": "stream",
          "name": "stdout",
          "text": [
            "0\n",
            "2\n",
            "4\n",
            "6\n",
            "8\n",
            "10\n",
            "12\n",
            "14\n",
            "16\n",
            "18\n",
            "20\n"
          ]
        }
      ]
    },
    {
      "cell_type": "code",
      "source": [
        "# 5. Crie um loop for que utilize enumerate() para exibir os índices e valores de uma lista de nomes.\n",
        "\n",
        "lista = ['Ana', 'Bruno', 'Camila', 'Diogo']\n",
        "for indice, valor in enumerate(lista):\n",
        "  indice += 1\n",
        "  print(f'{indice}: {valor}')"
      ],
      "metadata": {
        "colab": {
          "base_uri": "https://localhost:8080/"
        },
        "id": "aH9iOnx2ZbgR",
        "outputId": "26dffe9e-adfc-4071-be9a-00c7626d01eb"
      },
      "execution_count": null,
      "outputs": [
        {
          "output_type": "stream",
          "name": "stdout",
          "text": [
            "1: Ana\n",
            "2: Bruno\n",
            "3: Camila\n",
            "4: Diogo\n"
          ]
        }
      ]
    },
    {
      "cell_type": "code",
      "source": [
        "# 6. Escreva um programa que peça um número ao usuário e continue pedindo até que o usuário digite um número positivo.\n",
        "\n",
        "num = int(input('Digite um número: '))\n",
        "\n",
        "while num <= 0:\n",
        " num = int(input('Digite outro número: '))\n",
        " break\n",
        "print(f'{num} é positivo!')\n"
      ],
      "metadata": {
        "id": "xOj4aVkMZdoR",
        "colab": {
          "base_uri": "https://localhost:8080/"
        },
        "outputId": "1c0d1705-9793-4caf-a776-14bdb89ed035"
      },
      "execution_count": null,
      "outputs": [
        {
          "output_type": "stream",
          "name": "stdout",
          "text": [
            "Digite um número: -1\n",
            "Digite outro número: 1\n",
            "1 é positivo!\n"
          ]
        }
      ]
    },
    {
      "cell_type": "code",
      "source": [
        "# 7. Escreva um loop for que conte de 10 até 0 e, ao final, imprima \"Fim!\".\n",
        "\n",
        "for contador in range(10, -1, -1):\n",
        "    print(contador)\n",
        "print(\"Fim!\")"
      ],
      "metadata": {
        "id": "5EjVDeEiZhGY",
        "colab": {
          "base_uri": "https://localhost:8080/"
        },
        "outputId": "fb933041-67f4-4d0a-b661-ecb4d3bb3620"
      },
      "execution_count": null,
      "outputs": [
        {
          "output_type": "stream",
          "name": "stdout",
          "text": [
            "10\n",
            "9\n",
            "8\n",
            "7\n",
            "6\n",
            "5\n",
            "4\n",
            "3\n",
            "2\n",
            "1\n",
            "0\n",
            "Fim!\n"
          ]
        }
      ]
    },
    {
      "cell_type": "code",
      "source": [
        "# 8. Escreva um programa que use um while para calcular a soma dos números de 1 a 100.\n",
        "\n",
        "i = 1\n",
        "soma = 0\n",
        "while i <= 100:\n",
        " soma += i\n",
        " i += 1\n",
        "print(soma)"
      ],
      "metadata": {
        "id": "pXK4cgsuZjYP",
        "colab": {
          "base_uri": "https://localhost:8080/"
        },
        "outputId": "1c664c14-3fa2-40c9-bdc0-fdd0d06d0fb4"
      },
      "execution_count": null,
      "outputs": [
        {
          "output_type": "stream",
          "name": "stdout",
          "text": [
            "5050\n"
          ]
        }
      ]
    },
    {
      "cell_type": "code",
      "source": [
        "# 9. Modifique o exercício anterior para parar a soma se o total ultrapassar 1000, usando break.\n",
        "\n",
        "i = 1\n",
        "soma = 0\n",
        "while i <= 100:\n",
        " soma += i\n",
        " i += 1\n",
        " if soma >= 1000:\n",
        "  break\n",
        "print(soma)\n"
      ],
      "metadata": {
        "id": "L1qUN4u_ZlrX",
        "colab": {
          "base_uri": "https://localhost:8080/"
        },
        "outputId": "ea4af070-ceae-4fb7-f3ca-a879a0f47c1e"
      },
      "execution_count": null,
      "outputs": [
        {
          "output_type": "stream",
          "name": "stdout",
          "text": [
            "1035\n"
          ]
        }
      ]
    },
    {
      "cell_type": "code",
      "source": [
        "# 10. Crie um programa que peça ao usuário para digitar palavras e as adicione a uma lista até que ele digite \"sair\".\n",
        "\n",
        "palavra = ' '\n",
        "lista = []\n",
        "while palavra.lower() != 'sair':\n",
        "  palavra = input('Digite uma palavra: ')\n",
        "  if palavra != 'sair':\n",
        "    lista.append(palavra)\n",
        "print(lista)\n"
      ],
      "metadata": {
        "id": "V3oUq-sWZnyY",
        "colab": {
          "base_uri": "https://localhost:8080/"
        },
        "outputId": "4a09d877-1105-41dd-c9bd-1d8824541f75"
      },
      "execution_count": null,
      "outputs": [
        {
          "output_type": "stream",
          "name": "stdout",
          "text": [
            "Digite uma palavra: arroz\n",
            "Digite uma palavra: feijão\n",
            "Digite uma palavra: tomate\n",
            "Digite uma palavra: macarrão\n",
            "Digite uma palavra: sair\n",
            "['arroz', 'feijão', 'tomate', 'macarrão']\n"
          ]
        }
      ]
    },
    {
      "cell_type": "code",
      "source": [
        "# 11. Escreva um loop que percorra os números de 1 a 50 e imprima \"Fizz\" para múltiplos de 3, \"Buzz\" para múltiplos de 5 e \"FizzBuzz\" para múltiplos de ambos.\n",
        "num = 1\n",
        "while num <= 50:\n",
        "  if num % 3 == 0 and num % 5 == 0:\n",
        "    print('FizzBuzz')\n",
        "  elif num % 3 == 0:\n",
        "    print('Fizz')\n",
        "  elif num % 5 == 0:\n",
        "    print('Buzz')\n",
        "  else:\n",
        "    print(num)\n",
        "  num += 1"
      ],
      "metadata": {
        "id": "4yEiBIBWZqTf",
        "colab": {
          "base_uri": "https://localhost:8080/"
        },
        "outputId": "e1d5c974-2010-4af1-d854-bd121e95d249"
      },
      "execution_count": null,
      "outputs": [
        {
          "output_type": "stream",
          "name": "stdout",
          "text": [
            "1\n",
            "2\n",
            "Fizz\n",
            "4\n",
            "Buzz\n",
            "Fizz\n",
            "7\n",
            "8\n",
            "Fizz\n",
            "Buzz\n",
            "11\n",
            "Fizz\n",
            "13\n",
            "14\n",
            "FizzBuzz\n",
            "16\n",
            "17\n",
            "Fizz\n",
            "19\n",
            "Buzz\n",
            "Fizz\n",
            "22\n",
            "23\n",
            "Fizz\n",
            "Buzz\n",
            "26\n",
            "Fizz\n",
            "28\n",
            "29\n",
            "FizzBuzz\n",
            "31\n",
            "32\n",
            "Fizz\n",
            "34\n",
            "Buzz\n",
            "Fizz\n",
            "37\n",
            "38\n",
            "Fizz\n",
            "Buzz\n",
            "41\n",
            "Fizz\n",
            "43\n",
            "44\n",
            "FizzBuzz\n",
            "46\n",
            "47\n",
            "Fizz\n",
            "49\n",
            "Buzz\n"
          ]
        }
      ]
    },
    {
      "cell_type": "code",
      "source": [
        "# 12. Utilize um for e in para contar quantas vogais existem em uma string fornecida pelo usuário.\n",
        "frase = input('Digite uma frase: ')\n",
        "vogal = ['a', 'e', 'i', 'o', 'u']\n",
        "\n",
        "contador = 0\n",
        "for letra in frase:\n",
        "  if letra.lower() in vogal:\n",
        "    contador += 1\n",
        "print(f'A frase possui {contador} vogais.')"
      ],
      "metadata": {
        "id": "5rXmhuwrZqln",
        "colab": {
          "base_uri": "https://localhost:8080/"
        },
        "outputId": "1aa0293e-950d-4f6b-82c5-5cea95ae56d0"
      },
      "execution_count": null,
      "outputs": [
        {
          "output_type": "stream",
          "name": "stdout",
          "text": [
            "Digite uma frase: maça\n",
            "A frase possui 2 vogais.\n"
          ]
        }
      ]
    },
    {
      "cell_type": "code",
      "source": [
        "# 13. Crie um jogo de adivinhação onde o computador escolhe um número entre 1 e 100 e o usuário deve adivinhar. O programa deve dar dicas se o número é maior ou menor.\n",
        "import random\n",
        "sorteio = random.randint(1, 100)\n",
        "\n",
        "while True:\n",
        "  teste = int(input('Digite um número de 1 a 100!'))\n",
        "  if teste > sorteio:\n",
        "    print('O número é menor')\n",
        "  elif teste < sorteio:\n",
        "    print('O número é maior')\n",
        "  elif teste == sorteio:\n",
        "    print('Parabéns')\n",
        "    break"
      ],
      "metadata": {
        "id": "vDZav1FZZrEP",
        "colab": {
          "base_uri": "https://localhost:8080/"
        },
        "outputId": "cd9cdfda-d1d9-4a5e-e0f5-f91b6abf413b"
      },
      "execution_count": null,
      "outputs": [
        {
          "output_type": "stream",
          "name": "stdout",
          "text": [
            "Digite um número de 1 a 100!50\n",
            "O número é maior\n",
            "Digite um número de 1 a 100!51\n",
            "O número é maior\n",
            "Digite um número de 1 a 100!52\n",
            "O número é maior\n",
            "Digite um número de 1 a 100!75\n",
            "O número é maior\n",
            "Digite um número de 1 a 100!80\n",
            "O número é maior\n",
            "Digite um número de 1 a 100!99\n",
            "Parabéns\n"
          ]
        }
      ]
    },
    {
      "cell_type": "code",
      "source": [
        "# 14. Escreva um programa que utilize while e continue para exibir apenas os números ímpares de 1 a 30.\n",
        "\n",
        "contador = 1\n",
        "while contador <= 30:\n",
        "  if contador%2 != 0:\n",
        "    print(contador)\n",
        "  contador += 1"
      ],
      "metadata": {
        "id": "ojFQroWHZrM_",
        "colab": {
          "base_uri": "https://localhost:8080/"
        },
        "outputId": "ccd79427-45df-4a6b-8530-c265fc50678d"
      },
      "execution_count": null,
      "outputs": [
        {
          "output_type": "stream",
          "name": "stdout",
          "text": [
            "1\n",
            "3\n",
            "5\n",
            "7\n",
            "9\n",
            "11\n",
            "13\n",
            "15\n",
            "17\n",
            "19\n",
            "21\n",
            "23\n",
            "25\n",
            "27\n",
            "29\n"
          ]
        }
      ]
    },
    {
      "cell_type": "code",
      "source": [
        "# 15. Crie uma tabela de multiplicação de 1 a 10 utilizando loops aninhados.\n",
        "for i in range(1, 11):\n",
        "  for j in range(1, 11):\n",
        "    print(f'{i} x {j} = {i*j}')\n",
        "  print('-' * 12)\n"
      ],
      "metadata": {
        "id": "-6K6Rc7AZrUw",
        "colab": {
          "base_uri": "https://localhost:8080/"
        },
        "outputId": "cfd44979-aea6-4a9d-80e3-d0e4994397a8"
      },
      "execution_count": null,
      "outputs": [
        {
          "output_type": "stream",
          "name": "stdout",
          "text": [
            "1 x 1 = 1\n",
            "1 x 2 = 2\n",
            "1 x 3 = 3\n",
            "1 x 4 = 4\n",
            "1 x 5 = 5\n",
            "1 x 6 = 6\n",
            "1 x 7 = 7\n",
            "1 x 8 = 8\n",
            "1 x 9 = 9\n",
            "1 x 10 = 10\n",
            "------------\n",
            "2 x 1 = 2\n",
            "2 x 2 = 4\n",
            "2 x 3 = 6\n",
            "2 x 4 = 8\n",
            "2 x 5 = 10\n",
            "2 x 6 = 12\n",
            "2 x 7 = 14\n",
            "2 x 8 = 16\n",
            "2 x 9 = 18\n",
            "2 x 10 = 20\n",
            "------------\n",
            "3 x 1 = 3\n",
            "3 x 2 = 6\n",
            "3 x 3 = 9\n",
            "3 x 4 = 12\n",
            "3 x 5 = 15\n",
            "3 x 6 = 18\n",
            "3 x 7 = 21\n",
            "3 x 8 = 24\n",
            "3 x 9 = 27\n",
            "3 x 10 = 30\n",
            "------------\n",
            "4 x 1 = 4\n",
            "4 x 2 = 8\n",
            "4 x 3 = 12\n",
            "4 x 4 = 16\n",
            "4 x 5 = 20\n",
            "4 x 6 = 24\n",
            "4 x 7 = 28\n",
            "4 x 8 = 32\n",
            "4 x 9 = 36\n",
            "4 x 10 = 40\n",
            "------------\n",
            "5 x 1 = 5\n",
            "5 x 2 = 10\n",
            "5 x 3 = 15\n",
            "5 x 4 = 20\n",
            "5 x 5 = 25\n",
            "5 x 6 = 30\n",
            "5 x 7 = 35\n",
            "5 x 8 = 40\n",
            "5 x 9 = 45\n",
            "5 x 10 = 50\n",
            "------------\n",
            "6 x 1 = 6\n",
            "6 x 2 = 12\n",
            "6 x 3 = 18\n",
            "6 x 4 = 24\n",
            "6 x 5 = 30\n",
            "6 x 6 = 36\n",
            "6 x 7 = 42\n",
            "6 x 8 = 48\n",
            "6 x 9 = 54\n",
            "6 x 10 = 60\n",
            "------------\n",
            "7 x 1 = 7\n",
            "7 x 2 = 14\n",
            "7 x 3 = 21\n",
            "7 x 4 = 28\n",
            "7 x 5 = 35\n",
            "7 x 6 = 42\n",
            "7 x 7 = 49\n",
            "7 x 8 = 56\n",
            "7 x 9 = 63\n",
            "7 x 10 = 70\n",
            "------------\n",
            "8 x 1 = 8\n",
            "8 x 2 = 16\n",
            "8 x 3 = 24\n",
            "8 x 4 = 32\n",
            "8 x 5 = 40\n",
            "8 x 6 = 48\n",
            "8 x 7 = 56\n",
            "8 x 8 = 64\n",
            "8 x 9 = 72\n",
            "8 x 10 = 80\n",
            "------------\n",
            "9 x 1 = 9\n",
            "9 x 2 = 18\n",
            "9 x 3 = 27\n",
            "9 x 4 = 36\n",
            "9 x 5 = 45\n",
            "9 x 6 = 54\n",
            "9 x 7 = 63\n",
            "9 x 8 = 72\n",
            "9 x 9 = 81\n",
            "9 x 10 = 90\n",
            "------------\n",
            "10 x 1 = 10\n",
            "10 x 2 = 20\n",
            "10 x 3 = 30\n",
            "10 x 4 = 40\n",
            "10 x 5 = 50\n",
            "10 x 6 = 60\n",
            "10 x 7 = 70\n",
            "10 x 8 = 80\n",
            "10 x 9 = 90\n",
            "10 x 10 = 100\n",
            "------------\n"
          ]
        }
      ]
    },
    {
      "cell_type": "code",
      "source": [
        "#SEMANA 7"
      ],
      "metadata": {
        "id": "INcG6_ftpoX7"
      },
      "execution_count": null,
      "outputs": []
    },
    {
      "cell_type": "code",
      "source": [
        "#1 Crie um algoritmo que simule um sistema de reservas de um restaurante. O programa deve solicitar o número de pessoas para a reserva e verificar se há disponibilidade,\n",
        "#considerando que o restaurante possui apenas mesas de 4 lugares. Se o número de pessoas exceder a capacidade de uma mesa, o programa deve calcular quantas mesas serão necessárias e informar ao usuário.​\n",
        "mesas = 5\n",
        "lugares = mesas*4\n",
        "\n",
        "while True:\n",
        " reserva = int(input('Digite o número de pessoas: '))\n",
        " if reserva <= lugares:\n",
        "  if lugares%4 == 0:\n",
        "    print(f'Foi reservado {reserva}')\n",
        "    mesas = mesas - (reserva//4)\n",
        "    lugares -= reserva\n",
        "  else:\n",
        "    reserva = reserva + (4 - (reserva%4))\n",
        "    mesas = mesas - (reserva//4)\n",
        "    lugares -= reserva\n",
        "  print(f'Ainda restam {mesas} mesas, num total de {lugares} lugares!')\n",
        "\n",
        "  opc = input('Deseja continuar? (S/N): ')\n",
        "  if opc.upper() == 'N':\n",
        "    break\n",
        ""
      ],
      "metadata": {
        "id": "TtwFbTxkrIXj",
        "colab": {
          "base_uri": "https://localhost:8080/",
          "height": 426
        },
        "outputId": "9b548bc7-9532-4fd8-b0af-e1ff194291f2"
      },
      "execution_count": 23,
      "outputs": [
        {
          "output_type": "stream",
          "name": "stdout",
          "text": [
            "Digite o número de pessoas: 15\n",
            "15 lugares reservados!\n",
            "Ainda restam 2 mesas, num total de 5 lugares!\n"
          ]
        },
        {
          "output_type": "error",
          "ename": "KeyboardInterrupt",
          "evalue": "Interrupted by user",
          "traceback": [
            "\u001b[0;31m---------------------------------------------------------------------------\u001b[0m",
            "\u001b[0;31mKeyboardInterrupt\u001b[0m                         Traceback (most recent call last)",
            "\u001b[0;32m<ipython-input-23-f5864b24f60f>\u001b[0m in \u001b[0;36m<cell line: 0>\u001b[0;34m()\u001b[0m\n\u001b[1;32m     17\u001b[0m   \u001b[0mprint\u001b[0m\u001b[0;34m(\u001b[0m\u001b[0;34mf'Ainda restam {mesas} mesas, num total de {lugares} lugares!'\u001b[0m\u001b[0;34m)\u001b[0m\u001b[0;34m\u001b[0m\u001b[0;34m\u001b[0m\u001b[0m\n\u001b[1;32m     18\u001b[0m \u001b[0;34m\u001b[0m\u001b[0m\n\u001b[0;32m---> 19\u001b[0;31m   \u001b[0mopc\u001b[0m \u001b[0;34m=\u001b[0m \u001b[0minput\u001b[0m\u001b[0;34m(\u001b[0m\u001b[0;34m'Deseja continuar? (S/N): '\u001b[0m\u001b[0;34m)\u001b[0m\u001b[0;34m\u001b[0m\u001b[0;34m\u001b[0m\u001b[0m\n\u001b[0m\u001b[1;32m     20\u001b[0m   \u001b[0;32mif\u001b[0m \u001b[0mopc\u001b[0m\u001b[0;34m.\u001b[0m\u001b[0mupper\u001b[0m\u001b[0;34m(\u001b[0m\u001b[0;34m)\u001b[0m \u001b[0;34m==\u001b[0m \u001b[0;34m'N'\u001b[0m\u001b[0;34m:\u001b[0m\u001b[0;34m\u001b[0m\u001b[0;34m\u001b[0m\u001b[0m\n\u001b[1;32m     21\u001b[0m     \u001b[0;32mbreak\u001b[0m\u001b[0;34m\u001b[0m\u001b[0;34m\u001b[0m\u001b[0m\n",
            "\u001b[0;32m/usr/local/lib/python3.11/dist-packages/ipykernel/kernelbase.py\u001b[0m in \u001b[0;36mraw_input\u001b[0;34m(self, prompt)\u001b[0m\n\u001b[1;32m   1175\u001b[0m                 \u001b[0;34m\"raw_input was called, but this frontend does not support input requests.\"\u001b[0m\u001b[0;34m\u001b[0m\u001b[0;34m\u001b[0m\u001b[0m\n\u001b[1;32m   1176\u001b[0m             )\n\u001b[0;32m-> 1177\u001b[0;31m         return self._input_request(\n\u001b[0m\u001b[1;32m   1178\u001b[0m             \u001b[0mstr\u001b[0m\u001b[0;34m(\u001b[0m\u001b[0mprompt\u001b[0m\u001b[0;34m)\u001b[0m\u001b[0;34m,\u001b[0m\u001b[0;34m\u001b[0m\u001b[0;34m\u001b[0m\u001b[0m\n\u001b[1;32m   1179\u001b[0m             \u001b[0mself\u001b[0m\u001b[0;34m.\u001b[0m\u001b[0m_parent_ident\u001b[0m\u001b[0;34m[\u001b[0m\u001b[0;34m\"shell\"\u001b[0m\u001b[0;34m]\u001b[0m\u001b[0;34m,\u001b[0m\u001b[0;34m\u001b[0m\u001b[0;34m\u001b[0m\u001b[0m\n",
            "\u001b[0;32m/usr/local/lib/python3.11/dist-packages/ipykernel/kernelbase.py\u001b[0m in \u001b[0;36m_input_request\u001b[0;34m(self, prompt, ident, parent, password)\u001b[0m\n\u001b[1;32m   1217\u001b[0m             \u001b[0;32mexcept\u001b[0m \u001b[0mKeyboardInterrupt\u001b[0m\u001b[0;34m:\u001b[0m\u001b[0;34m\u001b[0m\u001b[0;34m\u001b[0m\u001b[0m\n\u001b[1;32m   1218\u001b[0m                 \u001b[0;31m# re-raise KeyboardInterrupt, to truncate traceback\u001b[0m\u001b[0;34m\u001b[0m\u001b[0;34m\u001b[0m\u001b[0m\n\u001b[0;32m-> 1219\u001b[0;31m                 \u001b[0;32mraise\u001b[0m \u001b[0mKeyboardInterrupt\u001b[0m\u001b[0;34m(\u001b[0m\u001b[0;34m\"Interrupted by user\"\u001b[0m\u001b[0;34m)\u001b[0m \u001b[0;32mfrom\u001b[0m \u001b[0;32mNone\u001b[0m\u001b[0;34m\u001b[0m\u001b[0;34m\u001b[0m\u001b[0m\n\u001b[0m\u001b[1;32m   1220\u001b[0m             \u001b[0;32mexcept\u001b[0m \u001b[0mException\u001b[0m\u001b[0;34m:\u001b[0m\u001b[0;34m\u001b[0m\u001b[0;34m\u001b[0m\u001b[0m\n\u001b[1;32m   1221\u001b[0m                 \u001b[0mself\u001b[0m\u001b[0;34m.\u001b[0m\u001b[0mlog\u001b[0m\u001b[0;34m.\u001b[0m\u001b[0mwarning\u001b[0m\u001b[0;34m(\u001b[0m\u001b[0;34m\"Invalid Message:\"\u001b[0m\u001b[0;34m,\u001b[0m \u001b[0mexc_info\u001b[0m\u001b[0;34m=\u001b[0m\u001b[0;32mTrue\u001b[0m\u001b[0;34m)\u001b[0m\u001b[0;34m\u001b[0m\u001b[0;34m\u001b[0m\u001b[0m\n",
            "\u001b[0;31mKeyboardInterrupt\u001b[0m: Interrupted by user"
          ]
        }
      ]
    },
    {
      "cell_type": "code",
      "source": [
        "#2 Desenvolva um algoritmo que auxilie na gestão de estoque de uma loja. O programa deve permitir que o usuário insira o nome e a quantidade de diferentes produtos. Se a quantidade de um produto for inferior a 5 unidades, o sistema deve alertar que o estoque está baixo e sugerir a reposição. O processo deve continuar até que o usuário decida encerrar.​\n",
        "\n"
      ],
      "metadata": {
        "id": "XjALuK81rK87"
      },
      "execution_count": null,
      "outputs": []
    },
    {
      "cell_type": "code",
      "source": [
        "#3 Elabore um algoritmo que simule um quiz de perguntas e respostas. O programa deve apresentar uma série de perguntas ao usuário, oferecer opções de resposta e verificar se a resposta fornecida está correta. Ao final, o sistema deve exibir a pontuação total do usuário e fornecer um feedback baseado no desempenho.​\n"
      ],
      "metadata": {
        "id": "Q1LUP7iirLJ0"
      },
      "execution_count": null,
      "outputs": []
    },
    {
      "cell_type": "code",
      "source": [
        "\n",
        "#4 Crie um algoritmo que simule um sistema de controle de acesso a um edifício. O programa deve solicitar ao usuário um código de acesso e verificar se ele é válido. Caso contrário, deve permitir novas tentativas até que o número máximo de 3 tentativas seja atingido. Se o acesso for concedido, uma mensagem de boas-vindas deve ser exibida; caso contrário, uma mensagem de bloqueio deve ser apresentada.​\n"
      ],
      "metadata": {
        "id": "t30c29EfrPDb"
      },
      "execution_count": null,
      "outputs": []
    },
    {
      "cell_type": "code",
      "source": [
        "#5 Desenvolva um algoritmo que ajude no planejamento de uma viagem de carro. O programa deve solicitar a distância total a ser percorrida, a capacidade do tanque de combustível do veículo e o consumo médio de combustível (km/l). Com base nessas informações, o sistema deve calcular quantas paradas para reabastecimento serão necessárias, assumindo que o motorista sempre reabastece o tanque completamente.​\n",
        "\n"
      ],
      "metadata": {
        "id": "AJqaAnr8rQVD"
      },
      "execution_count": null,
      "outputs": []
    },
    {
      "cell_type": "code",
      "source": [
        "#6 Elabore um algoritmo que simule um sistema de avaliação de filmes. O programa deve permitir que o usuário insira o título de vários filmes e uma nota de 0 a 10 para cada um. Após o usuário finalizar as entradas, o sistema deve exibir a média das notas atribuídas e listar os filmes que receberam nota superior a 8, destacando-os como altamente recomendados.​\n",
        "\n"
      ],
      "metadata": {
        "id": "3HifqpznrLSL"
      },
      "execution_count": null,
      "outputs": []
    },
    {
      "cell_type": "code",
      "source": [
        "#7 Crie um algoritmo que simule um sistema de monitoramento de temperatura ambiente. O programa deve solicitar ao usuário que insira a temperatura registrada a cada hora durante um período de 24 horas. Ao final, o sistema deve calcular a temperatura média do dia, identificar a temperatura mais alta e a mais baixa registradas, e alertar se em algum momento a temperatura ultrapassou 30°C ou ficou abaixo de 15°C.​\n"
      ],
      "metadata": {
        "id": "H365uRXarLaD"
      },
      "execution_count": null,
      "outputs": []
    },
    {
      "cell_type": "code",
      "source": [
        "#8 Desenvolva um algoritmo que auxilie na organização de uma biblioteca pessoal. O programa deve permitir que o usuário insira o título e o autor de diversos livros. Após a inserção, o sistema deve oferecer a opção de buscar por livros de um autor específico e listar todos os títulos correspondentes. O processo deve continuar até que o usuário decida encerrar.​\n"
      ],
      "metadata": {
        "id": "HzbkD8DhrLhr"
      },
      "execution_count": null,
      "outputs": []
    },
    {
      "cell_type": "code",
      "source": [
        "#9 Elabore um algoritmo que simule um sistema de gerenciamento de tarefas domésticas. O programa deve permitir que o usuário insira diferentes tarefas e atribua um nível de prioridade a cada uma (alto, médio ou baixo). O sistema deve então exibir as tarefas organizadas por ordem de prioridade, começando pelas de alta prioridade, e permitir que o usuário marque tarefas como concluídas.​\n"
      ],
      "metadata": {
        "id": "jWHWe5torLob"
      },
      "execution_count": null,
      "outputs": []
    },
    {
      "cell_type": "code",
      "source": [
        "#10 Crie um algoritmo que simule um sistema de acompanhamento de hábitos saudáveis. O programa deve permitir que o usuário registre diariamente a quantidade de copos de água ingeridos e o número de minutos dedicados a atividades físicas. Ao final de uma semana, o sistema deve calcular a média diária de consumo de água e de exercícios, compará-las com as recomendações de saúde (por exemplo, 8 copos de água e 30 minutos de exercício por dia), e fornecer um feedback sobre o desempenho do usuário."
      ],
      "metadata": {
        "id": "J44XlTNurLvE"
      },
      "execution_count": null,
      "outputs": []
    }
  ]
}