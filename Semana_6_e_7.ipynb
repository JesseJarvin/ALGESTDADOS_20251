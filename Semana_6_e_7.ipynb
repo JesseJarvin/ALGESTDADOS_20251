{
  "nbformat": 4,
  "nbformat_minor": 0,
  "metadata": {
    "colab": {
      "provenance": [],
      "authorship_tag": "ABX9TyNsuamVZmENpar4GNIw+wS4",
      "include_colab_link": true
    },
    "kernelspec": {
      "name": "python3",
      "display_name": "Python 3"
    },
    "language_info": {
      "name": "python"
    }
  },
  "cells": [
    {
      "cell_type": "markdown",
      "metadata": {
        "id": "view-in-github",
        "colab_type": "text"
      },
      "source": [
        "<a href=\"https://colab.research.google.com/github/JesseJarvin/ALGESTDADOS_20251/blob/main/Semana_6_e_7.ipynb\" target=\"_parent\"><img src=\"https://colab.research.google.com/assets/colab-badge.svg\" alt=\"Open In Colab\"/></a>"
      ]
    },
    {
      "cell_type": "code",
      "execution_count": null,
      "metadata": {
        "colab": {
          "base_uri": "https://localhost:8080/"
        },
        "id": "zQKsylb0YWm7",
        "outputId": "680f6501-6fc4-4c9f-851a-8daf4e49ce77"
      },
      "outputs": [
        {
          "output_type": "stream",
          "name": "stdout",
          "text": [
            "1\n",
            "2\n",
            "3\n",
            "4\n",
            "5\n",
            "6\n",
            "7\n",
            "8\n",
            "9\n",
            "10\n"
          ]
        }
      ],
      "source": [
        "# 1. Escreva um programa que imprima os números de 1 a 10 utilizando um loop while.\n",
        "\n",
        "contador = 1\n",
        "while contador <= 10:\n",
        "  print(contador)\n",
        "  contador += 1"
      ]
    },
    {
      "cell_type": "code",
      "source": [
        "# 2. Escreva um programa que imprima os números de 1 a 10 utilizando um loop for com range().\n",
        "\n",
        "for i in range(1, 11, 1):\n",
        " print(i)"
      ],
      "metadata": {
        "colab": {
          "base_uri": "https://localhost:8080/"
        },
        "id": "PXVUbcneZTSK",
        "outputId": "573b7bd2-8ff8-494b-ca26-e5de40ad6449"
      },
      "execution_count": null,
      "outputs": [
        {
          "output_type": "stream",
          "name": "stdout",
          "text": [
            "1\n",
            "2\n",
            "3\n",
            "4\n",
            "5\n",
            "6\n",
            "7\n",
            "8\n",
            "9\n",
            "10\n"
          ]
        }
      ]
    },
    {
      "cell_type": "code",
      "source": [
        "# 3. Crie um loop for que percorra uma lista de frutas e imprima cada uma delas.\n",
        "\n",
        "lista = [\"abacaxi\", \"banana\", \"carambola\"]\n",
        "for i in range (len(lista)):\n",
        "  indice = i + 1\n",
        "  print(f'{indice}: {lista[i]}')"
      ],
      "metadata": {
        "colab": {
          "base_uri": "https://localhost:8080/"
        },
        "id": "jV0QI3PEZW95",
        "outputId": "f7d91293-6613-489a-9075-f97192320ca7"
      },
      "execution_count": null,
      "outputs": [
        {
          "output_type": "stream",
          "name": "stdout",
          "text": [
            "1: abacaxi\n",
            "2: banana\n",
            "3: carambola\n"
          ]
        }
      ]
    },
    {
      "cell_type": "code",
      "source": [
        "# 4. Utilize um while para imprimir os números pares de 0 a 20.\n",
        "\n",
        "n = 0\n",
        "while n <= 20:\n",
        "  if n % 2 == 0:\n",
        "    print(n)\n",
        "  n += 1"
      ],
      "metadata": {
        "colab": {
          "base_uri": "https://localhost:8080/"
        },
        "id": "70357kI6ZZIJ",
        "outputId": "f5da1758-ba5f-4c52-c7dd-a61eec662dde"
      },
      "execution_count": null,
      "outputs": [
        {
          "output_type": "stream",
          "name": "stdout",
          "text": [
            "0\n",
            "2\n",
            "4\n",
            "6\n",
            "8\n",
            "10\n",
            "12\n",
            "14\n",
            "16\n",
            "18\n",
            "20\n"
          ]
        }
      ]
    },
    {
      "cell_type": "code",
      "source": [
        "# 5. Crie um loop for que utilize enumerate() para exibir os índices e valores de uma lista de nomes.\n",
        "\n",
        "lista = ['Ana', 'Bruno', 'Camila', 'Diogo']\n",
        "for indice, valor in enumerate(lista):\n",
        "  indice += 1\n",
        "  print(f'{indice}: {valor}')"
      ],
      "metadata": {
        "colab": {
          "base_uri": "https://localhost:8080/"
        },
        "id": "aH9iOnx2ZbgR",
        "outputId": "26dffe9e-adfc-4071-be9a-00c7626d01eb"
      },
      "execution_count": null,
      "outputs": [
        {
          "output_type": "stream",
          "name": "stdout",
          "text": [
            "1: Ana\n",
            "2: Bruno\n",
            "3: Camila\n",
            "4: Diogo\n"
          ]
        }
      ]
    },
    {
      "cell_type": "code",
      "source": [
        "# 6. Escreva um programa que peça um número ao usuário e continue pedindo até que o usuário digite um número positivo.\n",
        "\n",
        "num = int(input('Digite um número: '))\n",
        "\n",
        "while num <= 0:\n",
        " num = int(input('Digite outro número: '))\n",
        " break\n",
        "print(f'{num} é positivo!')\n"
      ],
      "metadata": {
        "id": "xOj4aVkMZdoR",
        "colab": {
          "base_uri": "https://localhost:8080/"
        },
        "outputId": "1c0d1705-9793-4caf-a776-14bdb89ed035"
      },
      "execution_count": null,
      "outputs": [
        {
          "output_type": "stream",
          "name": "stdout",
          "text": [
            "Digite um número: -1\n",
            "Digite outro número: 1\n",
            "1 é positivo!\n"
          ]
        }
      ]
    },
    {
      "cell_type": "code",
      "source": [
        "# 7. Escreva um loop for que conte de 10 até 0 e, ao final, imprima \"Fim!\".\n",
        "\n",
        "for contador in range(10, -1, -1):\n",
        "    print(contador)\n",
        "print(\"Fim!\")"
      ],
      "metadata": {
        "id": "5EjVDeEiZhGY",
        "colab": {
          "base_uri": "https://localhost:8080/"
        },
        "outputId": "fb933041-67f4-4d0a-b661-ecb4d3bb3620"
      },
      "execution_count": null,
      "outputs": [
        {
          "output_type": "stream",
          "name": "stdout",
          "text": [
            "10\n",
            "9\n",
            "8\n",
            "7\n",
            "6\n",
            "5\n",
            "4\n",
            "3\n",
            "2\n",
            "1\n",
            "0\n",
            "Fim!\n"
          ]
        }
      ]
    },
    {
      "cell_type": "code",
      "source": [
        "# 8. Escreva um programa que use um while para calcular a soma dos números de 1 a 100.\n",
        "\n",
        "i = 1\n",
        "soma = 0\n",
        "while i <= 100:\n",
        " soma += i\n",
        " i += 1\n",
        "print(soma)"
      ],
      "metadata": {
        "id": "pXK4cgsuZjYP",
        "colab": {
          "base_uri": "https://localhost:8080/"
        },
        "outputId": "1c664c14-3fa2-40c9-bdc0-fdd0d06d0fb4"
      },
      "execution_count": null,
      "outputs": [
        {
          "output_type": "stream",
          "name": "stdout",
          "text": [
            "5050\n"
          ]
        }
      ]
    },
    {
      "cell_type": "code",
      "source": [
        "# 9. Modifique o exercício anterior para parar a soma se o total ultrapassar 1000, usando break.\n",
        "\n",
        "i = 1\n",
        "soma = 0\n",
        "while i <= 100:\n",
        " soma += i\n",
        " i += 1\n",
        " if soma >= 1000:\n",
        "  break\n",
        "print(soma)\n"
      ],
      "metadata": {
        "id": "L1qUN4u_ZlrX",
        "colab": {
          "base_uri": "https://localhost:8080/"
        },
        "outputId": "ea4af070-ceae-4fb7-f3ca-a879a0f47c1e"
      },
      "execution_count": null,
      "outputs": [
        {
          "output_type": "stream",
          "name": "stdout",
          "text": [
            "1035\n"
          ]
        }
      ]
    },
    {
      "cell_type": "code",
      "source": [
        "# 10. Crie um programa que peça ao usuário para digitar palavras e as adicione a uma lista até que ele digite \"sair\".\n",
        "\n",
        "palavra = ' '\n",
        "lista = []\n",
        "while palavra.lower() != 'sair':\n",
        "  palavra = input('Digite uma palavra: ')\n",
        "  if palavra != 'sair':\n",
        "    lista.append(palavra)\n",
        "print(lista)\n"
      ],
      "metadata": {
        "id": "V3oUq-sWZnyY",
        "colab": {
          "base_uri": "https://localhost:8080/"
        },
        "outputId": "4a09d877-1105-41dd-c9bd-1d8824541f75"
      },
      "execution_count": null,
      "outputs": [
        {
          "output_type": "stream",
          "name": "stdout",
          "text": [
            "Digite uma palavra: arroz\n",
            "Digite uma palavra: feijão\n",
            "Digite uma palavra: tomate\n",
            "Digite uma palavra: macarrão\n",
            "Digite uma palavra: sair\n",
            "['arroz', 'feijão', 'tomate', 'macarrão']\n"
          ]
        }
      ]
    },
    {
      "cell_type": "code",
      "source": [
        "# 11. Escreva um loop que percorra os números de 1 a 50 e imprima \"Fizz\" para múltiplos de 3, \"Buzz\" para múltiplos de 5 e \"FizzBuzz\" para múltiplos de ambos.\n",
        "num = 1\n",
        "while num <= 50:\n",
        "  if num % 3 == 0 and num % 5 == 0:\n",
        "    print('FizzBuzz')\n",
        "  elif num % 3 == 0:\n",
        "    print('Fizz')\n",
        "  elif num % 5 == 0:\n",
        "    print('Buzz')\n",
        "  else:\n",
        "    print(num)\n",
        "  num += 1"
      ],
      "metadata": {
        "id": "4yEiBIBWZqTf",
        "colab": {
          "base_uri": "https://localhost:8080/"
        },
        "outputId": "e1d5c974-2010-4af1-d854-bd121e95d249"
      },
      "execution_count": 18,
      "outputs": [
        {
          "output_type": "stream",
          "name": "stdout",
          "text": [
            "1\n",
            "2\n",
            "Fizz\n",
            "4\n",
            "Buzz\n",
            "Fizz\n",
            "7\n",
            "8\n",
            "Fizz\n",
            "Buzz\n",
            "11\n",
            "Fizz\n",
            "13\n",
            "14\n",
            "FizzBuzz\n",
            "16\n",
            "17\n",
            "Fizz\n",
            "19\n",
            "Buzz\n",
            "Fizz\n",
            "22\n",
            "23\n",
            "Fizz\n",
            "Buzz\n",
            "26\n",
            "Fizz\n",
            "28\n",
            "29\n",
            "FizzBuzz\n",
            "31\n",
            "32\n",
            "Fizz\n",
            "34\n",
            "Buzz\n",
            "Fizz\n",
            "37\n",
            "38\n",
            "Fizz\n",
            "Buzz\n",
            "41\n",
            "Fizz\n",
            "43\n",
            "44\n",
            "FizzBuzz\n",
            "46\n",
            "47\n",
            "Fizz\n",
            "49\n",
            "Buzz\n"
          ]
        }
      ]
    },
    {
      "cell_type": "code",
      "source": [
        "# 12. Utilize um for e in para contar quantas vogais existem em uma string fornecida pelo usuário.\n",
        "frase = input('Digite uma frase: ')\n",
        "vogal = ['a', 'e', 'i', 'o', 'u']\n",
        "\n",
        "contador = 0\n",
        "for letra in frase:\n",
        "  if letra.lower() in vogal:\n",
        "    contador += 1\n",
        "print(f'A frase possui {contador} vogais.')"
      ],
      "metadata": {
        "id": "5rXmhuwrZqln",
        "colab": {
          "base_uri": "https://localhost:8080/"
        },
        "outputId": "1aa0293e-950d-4f6b-82c5-5cea95ae56d0"
      },
      "execution_count": 26,
      "outputs": [
        {
          "output_type": "stream",
          "name": "stdout",
          "text": [
            "Digite uma frase: maça\n",
            "A frase possui 2 vogais.\n"
          ]
        }
      ]
    },
    {
      "cell_type": "code",
      "source": [
        "# 13. Crie um jogo de adivinhação onde o computador escolhe um número entre 1 e 100 e o usuário deve adivinhar. O programa deve dar dicas se o número é maior ou menor.\n",
        "import random\n",
        "sorteio = random.randint(1, 100)\n",
        "\n",
        "while True:\n",
        "  teste = int(input('Digite um número de 1 a 100!'))\n",
        "  if teste > sorteio:\n",
        "    print('O número é menor')\n",
        "  elif teste < sorteio:\n",
        "    print('O número é maior')\n",
        "  elif teste == sorteio:\n",
        "    print('Parabéns')\n",
        "    break"
      ],
      "metadata": {
        "id": "vDZav1FZZrEP",
        "colab": {
          "base_uri": "https://localhost:8080/"
        },
        "outputId": "cd9cdfda-d1d9-4a5e-e0f5-f91b6abf413b"
      },
      "execution_count": 41,
      "outputs": [
        {
          "output_type": "stream",
          "name": "stdout",
          "text": [
            "Digite um número de 1 a 100!50\n",
            "O número é maior\n",
            "Digite um número de 1 a 100!51\n",
            "O número é maior\n",
            "Digite um número de 1 a 100!52\n",
            "O número é maior\n",
            "Digite um número de 1 a 100!75\n",
            "O número é maior\n",
            "Digite um número de 1 a 100!80\n",
            "O número é maior\n",
            "Digite um número de 1 a 100!99\n",
            "Parabéns\n"
          ]
        }
      ]
    },
    {
      "cell_type": "code",
      "source": [
        "# 14. Escreva um programa que utilize while e continue para exibir apenas os números ímpares de 1 a 30.\n",
        "\n",
        "contador = 1\n",
        "while contador <= 30:\n",
        "  if contador%2 != 0:\n",
        "    print(contador)\n",
        "  contador += 1"
      ],
      "metadata": {
        "id": "ojFQroWHZrM_",
        "colab": {
          "base_uri": "https://localhost:8080/"
        },
        "outputId": "ccd79427-45df-4a6b-8530-c265fc50678d"
      },
      "execution_count": 47,
      "outputs": [
        {
          "output_type": "stream",
          "name": "stdout",
          "text": [
            "1\n",
            "3\n",
            "5\n",
            "7\n",
            "9\n",
            "11\n",
            "13\n",
            "15\n",
            "17\n",
            "19\n",
            "21\n",
            "23\n",
            "25\n",
            "27\n",
            "29\n"
          ]
        }
      ]
    },
    {
      "cell_type": "code",
      "source": [
        "# 15. Crie uma tabela de multiplicação de 1 a 10 utilizando loops aninhados.\n",
        "for i in range(1, 11):\n",
        "  for j in range(1, 11):\n",
        "    print(f'{i} x {j} = {i*j}')\n",
        "  print('-' * 12)\n"
      ],
      "metadata": {
        "id": "-6K6Rc7AZrUw",
        "colab": {
          "base_uri": "https://localhost:8080/"
        },
        "outputId": "cfd44979-aea6-4a9d-80e3-d0e4994397a8"
      },
      "execution_count": 52,
      "outputs": [
        {
          "output_type": "stream",
          "name": "stdout",
          "text": [
            "1 x 1 = 1\n",
            "1 x 2 = 2\n",
            "1 x 3 = 3\n",
            "1 x 4 = 4\n",
            "1 x 5 = 5\n",
            "1 x 6 = 6\n",
            "1 x 7 = 7\n",
            "1 x 8 = 8\n",
            "1 x 9 = 9\n",
            "1 x 10 = 10\n",
            "------------\n",
            "2 x 1 = 2\n",
            "2 x 2 = 4\n",
            "2 x 3 = 6\n",
            "2 x 4 = 8\n",
            "2 x 5 = 10\n",
            "2 x 6 = 12\n",
            "2 x 7 = 14\n",
            "2 x 8 = 16\n",
            "2 x 9 = 18\n",
            "2 x 10 = 20\n",
            "------------\n",
            "3 x 1 = 3\n",
            "3 x 2 = 6\n",
            "3 x 3 = 9\n",
            "3 x 4 = 12\n",
            "3 x 5 = 15\n",
            "3 x 6 = 18\n",
            "3 x 7 = 21\n",
            "3 x 8 = 24\n",
            "3 x 9 = 27\n",
            "3 x 10 = 30\n",
            "------------\n",
            "4 x 1 = 4\n",
            "4 x 2 = 8\n",
            "4 x 3 = 12\n",
            "4 x 4 = 16\n",
            "4 x 5 = 20\n",
            "4 x 6 = 24\n",
            "4 x 7 = 28\n",
            "4 x 8 = 32\n",
            "4 x 9 = 36\n",
            "4 x 10 = 40\n",
            "------------\n",
            "5 x 1 = 5\n",
            "5 x 2 = 10\n",
            "5 x 3 = 15\n",
            "5 x 4 = 20\n",
            "5 x 5 = 25\n",
            "5 x 6 = 30\n",
            "5 x 7 = 35\n",
            "5 x 8 = 40\n",
            "5 x 9 = 45\n",
            "5 x 10 = 50\n",
            "------------\n",
            "6 x 1 = 6\n",
            "6 x 2 = 12\n",
            "6 x 3 = 18\n",
            "6 x 4 = 24\n",
            "6 x 5 = 30\n",
            "6 x 6 = 36\n",
            "6 x 7 = 42\n",
            "6 x 8 = 48\n",
            "6 x 9 = 54\n",
            "6 x 10 = 60\n",
            "------------\n",
            "7 x 1 = 7\n",
            "7 x 2 = 14\n",
            "7 x 3 = 21\n",
            "7 x 4 = 28\n",
            "7 x 5 = 35\n",
            "7 x 6 = 42\n",
            "7 x 7 = 49\n",
            "7 x 8 = 56\n",
            "7 x 9 = 63\n",
            "7 x 10 = 70\n",
            "------------\n",
            "8 x 1 = 8\n",
            "8 x 2 = 16\n",
            "8 x 3 = 24\n",
            "8 x 4 = 32\n",
            "8 x 5 = 40\n",
            "8 x 6 = 48\n",
            "8 x 7 = 56\n",
            "8 x 8 = 64\n",
            "8 x 9 = 72\n",
            "8 x 10 = 80\n",
            "------------\n",
            "9 x 1 = 9\n",
            "9 x 2 = 18\n",
            "9 x 3 = 27\n",
            "9 x 4 = 36\n",
            "9 x 5 = 45\n",
            "9 x 6 = 54\n",
            "9 x 7 = 63\n",
            "9 x 8 = 72\n",
            "9 x 9 = 81\n",
            "9 x 10 = 90\n",
            "------------\n",
            "10 x 1 = 10\n",
            "10 x 2 = 20\n",
            "10 x 3 = 30\n",
            "10 x 4 = 40\n",
            "10 x 5 = 50\n",
            "10 x 6 = 60\n",
            "10 x 7 = 70\n",
            "10 x 8 = 80\n",
            "10 x 9 = 90\n",
            "10 x 10 = 100\n",
            "------------\n"
          ]
        }
      ]
    }
  ]
}