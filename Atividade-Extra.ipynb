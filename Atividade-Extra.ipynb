{
  "nbformat": 4,
  "nbformat_minor": 0,
  "metadata": {
    "colab": {
      "provenance": [],
      "authorship_tag": "ABX9TyPQ1RBJ1j1gOV6hTm0rntDM",
      "include_colab_link": true
    },
    "kernelspec": {
      "name": "python3",
      "display_name": "Python 3"
    },
    "language_info": {
      "name": "python"
    }
  },
  "cells": [
    {
      "cell_type": "markdown",
      "metadata": {
        "id": "view-in-github",
        "colab_type": "text"
      },
      "source": [
        "<a href=\"https://colab.research.google.com/github/JesseJarvin/ALGESTDADOS_20251/blob/main/Atividade-Extra.ipynb\" target=\"_parent\"><img src=\"https://colab.research.google.com/assets/colab-badge.svg\" alt=\"Open In Colab\"/></a>"
      ]
    },
    {
      "cell_type": "markdown",
      "source": [
        "Atividade Valendo 1 ponto da prova"
      ],
      "metadata": {
        "id": "nruhcffmygPH"
      }
    },
    {
      "cell_type": "code",
      "execution_count": 1,
      "metadata": {
        "colab": {
          "base_uri": "https://localhost:8080/"
        },
        "id": "b8WpTIRkyd-X",
        "outputId": "f4d1d8a4-05a4-452d-fe6d-5e6eb633db25"
      },
      "outputs": [
        {
          "output_type": "stream",
          "name": "stdout",
          "text": [
            "2025\n"
          ]
        }
      ],
      "source": [
        "# Atividade 7: Escreva um código completo em Python que utilize a biblioteca DATETIME para obter e exibir o ano atual na tela.\n",
        "\n",
        "from datetime import datetime\n",
        "data = (datetime.now()).year\n",
        "print(data)"
      ]
    },
    {
      "cell_type": "code",
      "source": [
        "# Atividade 8: Escreva um programa em Python que utilize um laço for para imprimir os números de 1 a 10. O programa deve pular os números múltiplos de 3 utilizando a estrutura condicional apropriada.\n",
        "\n",
        "for i in range(1, 11):\n",
        "    if i%3 == 0:\n",
        "        continue\n",
        "    print(i)"
      ],
      "metadata": {
        "colab": {
          "base_uri": "https://localhost:8080/"
        },
        "id": "UVOk1qoEypNI",
        "outputId": "e3204ab1-fba7-48ed-84c0-dd5fa15205e6"
      },
      "execution_count": 2,
      "outputs": [
        {
          "output_type": "stream",
          "name": "stdout",
          "text": [
            "1\n",
            "2\n",
            "4\n",
            "5\n",
            "7\n",
            "8\n",
            "10\n"
          ]
        }
      ]
    },
    {
      "cell_type": "code",
      "source": [
        "# Atividade 9: Crie um algoritmo em Python que solicite ao usuário uma frase qualquer.\n",
        "# O programa deve contar a quantidade de caracteres digitados, mas só deve exibir esse número se a frase tiver mais de 10 caracteres.\n",
        "\n",
        "frase = input('Digite uma frase: ')\n",
        "carac = len(frase)\n",
        "if carac > 10:\n",
        "    print(carac)\n",
        "else:\n",
        "    print()"
      ],
      "metadata": {
        "colab": {
          "base_uri": "https://localhost:8080/"
        },
        "id": "ynuCJMXkypd4",
        "outputId": "a1c1202d-ab99-43d0-dcde-c95c1a4372f3"
      },
      "execution_count": 3,
      "outputs": [
        {
          "output_type": "stream",
          "name": "stdout",
          "text": [
            "Digite uma frase: Hoje tem flamengo\n",
            "17\n"
          ]
        }
      ]
    },
    {
      "cell_type": "code",
      "source": [
        "#Atividade 10:\n",
        "\n",
        "valor_a = int(input('Digite um valor para o pote A'))\n",
        "valor_b = int(input('Digite um valor para o pote B'))\n",
        "\n",
        "pote_a = valor_a\n",
        "pote_b = valor_b\n",
        "\n",
        "pote_a2 = pote_b\n",
        "pote_b2 = pote_a\n",
        "\n",
        "print(pote_a2)\n",
        "print(pote_b2)"
      ],
      "metadata": {
        "id": "D4_oFzxMyp2g"
      },
      "execution_count": null,
      "outputs": []
    }
  ]
}