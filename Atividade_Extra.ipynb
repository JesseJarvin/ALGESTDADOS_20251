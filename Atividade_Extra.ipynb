{
  "nbformat": 4,
  "nbformat_minor": 0,
  "metadata": {
    "colab": {
      "provenance": [],
      "authorship_tag": "ABX9TyPBzs36gA3T8LgGOp37O2NY",
      "include_colab_link": true
    },
    "kernelspec": {
      "name": "python3",
      "display_name": "Python 3"
    },
    "language_info": {
      "name": "python"
    }
  },
  "cells": [
    {
      "cell_type": "markdown",
      "metadata": {
        "id": "view-in-github",
        "colab_type": "text"
      },
      "source": [
        "<a href=\"https://colab.research.google.com/github/JesseJarvin/ALGESTDADOS_20251/blob/main/Atividade_Extra.ipynb\" target=\"_parent\"><img src=\"https://colab.research.google.com/assets/colab-badge.svg\" alt=\"Open In Colab\"/></a>"
      ]
    },
    {
      "cell_type": "markdown",
      "source": [
        "Atividade Valendo 1 ponto da prova"
      ],
      "metadata": {
        "id": "nruhcffmygPH"
      }
    },
    {
      "cell_type": "code",
      "execution_count": 1,
      "metadata": {
        "colab": {
          "base_uri": "https://localhost:8080/"
        },
        "id": "b8WpTIRkyd-X",
        "outputId": "f4d1d8a4-05a4-452d-fe6d-5e6eb633db25"
      },
      "outputs": [
        {
          "output_type": "stream",
          "name": "stdout",
          "text": [
            "2025\n"
          ]
        }
      ],
      "source": [
        "# Atividade 7: Escreva um código completo em Python que utilize a biblioteca DATETIME para obter e exibir o ano atual na tela.\n",
        "\n",
        "from datetime import datetime\n",
        "data = (datetime.now()).year\n",
        "print(data)"
      ]
    },
    {
      "cell_type": "code",
      "source": [
        "# Atividade 8: Escreva um programa em Python que utilize um laço for para imprimir os números de 1 a 10. O programa deve pular os números múltiplos de 3 utilizando a estrutura condicional apropriada.\n",
        "\n",
        "for i in range(1, 11):\n",
        "    if i%3 == 0:\n",
        "        continue\n",
        "    print(i)"
      ],
      "metadata": {
        "colab": {
          "base_uri": "https://localhost:8080/"
        },
        "id": "UVOk1qoEypNI",
        "outputId": "e3204ab1-fba7-48ed-84c0-dd5fa15205e6"
      },
      "execution_count": 2,
      "outputs": [
        {
          "output_type": "stream",
          "name": "stdout",
          "text": [
            "1\n",
            "2\n",
            "4\n",
            "5\n",
            "7\n",
            "8\n",
            "10\n"
          ]
        }
      ]
    },
    {
      "cell_type": "code",
      "source": [
        "# Atividade 9: Crie um algoritmo em Python que solicite ao usuário uma frase qualquer.\n",
        "# O programa deve contar a quantidade de caracteres digitados, mas só deve exibir esse número se a frase tiver mais de 10 caracteres.\n",
        "\n",
        "frase = input('Digite uma frase: ')\n",
        "carac = len(frase)\n",
        "if carac > 10:\n",
        "  print(f'Sua palavra tem {carac} caracteres!')"
      ],
      "metadata": {
        "colab": {
          "base_uri": "https://localhost:8080/"
        },
        "id": "ynuCJMXkypd4",
        "outputId": "0dcf69f6-b10c-44eb-df01-42524179065e"
      },
      "execution_count": 10,
      "outputs": [
        {
          "output_type": "stream",
          "name": "stdout",
          "text": [
            "Digite uma frase: Hoje tem flamengo\n",
            "Sua palavra tem 17 caracteres!\n"
          ]
        }
      ]
    },
    {
      "cell_type": "code",
      "source": [
        "#Atividade 10:\n",
        "\n",
        "valor_a = int(input('Digite um valor para o pote A: '))\n",
        "valor_b = int(input('Digite um valor para o pote B: '))\n",
        "\n",
        "pote_a = valor_a\n",
        "pote_b = valor_b\n",
        "\n",
        "pote_a2 = pote_b\n",
        "pote_b2 = pote_a\n",
        "\n",
        "print(f'Pote A: {pote_a2}')\n",
        "print(f'Pote B: {pote_b2}')"
      ],
      "metadata": {
        "colab": {
          "base_uri": "https://localhost:8080/"
        },
        "id": "D4_oFzxMyp2g",
        "outputId": "4cd1c435-9cfd-4e61-ba17-8e3ea02a3266"
      },
      "execution_count": 8,
      "outputs": [
        {
          "output_type": "stream",
          "name": "stdout",
          "text": [
            "Digite um valor para o pote A: 45\n",
            "Digite um valor para o pote B: 21\n",
            "Pote A: 21\n",
            "Pote B: 45\n"
          ]
        }
      ]
    }
  ]
}