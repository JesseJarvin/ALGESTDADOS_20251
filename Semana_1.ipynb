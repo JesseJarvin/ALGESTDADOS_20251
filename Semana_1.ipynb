{
  "nbformat": 4,
  "nbformat_minor": 0,
  "metadata": {
    "colab": {
      "provenance": [],
      "toc_visible": true,
      "name": "Semana_1.ipynb",
      "authorship_tag": "ABX9TyM3JdqN/MPgtEIYuQISo7Y1",
      "include_colab_link": true
    },
    "kernelspec": {
      "name": "python3",
      "display_name": "Python 3"
    },
    "language_info": {
      "name": "python"
    }
  },
  "cells": [
    {
      "cell_type": "markdown",
      "metadata": {
        "id": "view-in-github",
        "colab_type": "text"
      },
      "source": [
        "<a href=\"https://colab.research.google.com/github/JesseJarvin/ALGESTDADOS_20251/blob/main/Semana_1.ipynb\" target=\"_parent\"><img src=\"https://colab.research.google.com/assets/colab-badge.svg\" alt=\"Open In Colab\"/></a>"
      ]
    },
    {
      "cell_type": "code",
      "source": [
        "#SEMANA 1\n",
        "\n",
        "#Soma de dois números conhecidos em Python\n",
        "num1 = 1930\n",
        "num2 = 1640\n",
        "resultado = num1 + num2\n",
        "print (resultado)\n"
      ],
      "metadata": {
        "colab": {
          "base_uri": "https://localhost:8080/"
        },
        "id": "KFzCS9eJZuOh",
        "outputId": "b13970ec-92b9-496f-a3b9-93d34f13a0c3"
      },
      "execution_count": null,
      "outputs": [
        {
          "output_type": "stream",
          "name": "stdout",
          "text": [
            "3570\n"
          ]
        }
      ]
    },
    {
      "cell_type": "code",
      "source": [
        "#Soma de dois números desconhecidos em Python\n",
        "num1 = int(input(\"digite um primeiro numero\"))\n",
        "num2 = int(input(\"digite um segundo numero\"))\n",
        "resultado = num1 + num2\n",
        "print (resultado)"
      ],
      "metadata": {
        "colab": {
          "base_uri": "https://localhost:8080/"
        },
        "id": "alfZmxRCbskB",
        "outputId": "783b1889-f4e7-4eab-d016-acb7d77b6167"
      },
      "execution_count": null,
      "outputs": [
        {
          "output_type": "stream",
          "name": "stdout",
          "text": [
            "digite um primeiro numero1\n",
            "digite um segundo numero2\n",
            "3\n"
          ]
        }
      ]
    },
    {
      "cell_type": "code",
      "source": [
        "#Crie um algoritmo em Python que calcule o valor do IMC de uma pessoa\n",
        "num1 = float(input(\"peso: \"))\n",
        "print(f\"seu peso é {num1} Kg\")\n",
        "num2 = float(input(\"altura: \"))\n",
        "print(f\"sua altura é {num2} m\")\n",
        "resultado = num1 / (num2 * num2)\n",
        "print(resultado)\n"
      ],
      "metadata": {
        "colab": {
          "base_uri": "https://localhost:8080/"
        },
        "id": "nLysoWU468e-",
        "outputId": "9e95e101-9927-4d91-86a8-5e88dab978df"
      },
      "execution_count": null,
      "outputs": [
        {
          "output_type": "stream",
          "name": "stdout",
          "text": [
            "peso: 65\n",
            "seu peso é 65.0 Kg\n",
            "altura: 1.72\n",
            "sua altura é 1.72 m\n",
            "21.971335857220122\n"
          ]
        }
      ]
    },
    {
      "cell_type": "code",
      "source": [
        "#SEMANA 2\n",
        "\n",
        "# Criar um programa que retorne o nome, a cidade e a idade de um usuário atravéz da sua data de nascimento\n",
        "\n",
        "#importando a biblioteca datetime\n",
        "from datetime import datetime\n",
        "\n",
        "nome = input('digite seu nome: ')\n",
        "cidade = input('digite o nome da sua cidade natal: ')\n",
        "\n",
        "#Data de nascimento em formato de texto\n",
        "data_nasc = input('Quando você nasceu (DD/MM/YYYY): ')\n",
        "\n",
        "#Usando a biblioteca datetime - a função now pega o valor da data de hoje\n",
        "#Já a função striptime pega o valor em texto e converte em tipo datetime\n",
        "idade = datetime.now() - datetime.strptime(data_nasc, '%d/%m/%Y')\n",
        "idade = idade.days // 365\n",
        "\n",
        "print(f'Seu nome é {nome}, nascido em {cidade} e sua idade é {idade} anos.')"
      ],
      "metadata": {
        "colab": {
          "base_uri": "https://localhost:8080/"
        },
        "id": "DLX73X90QaYw",
        "outputId": "e15c2c2b-fa63-4467-fd82-be0eff447b20"
      },
      "execution_count": null,
      "outputs": [
        {
          "output_type": "stream",
          "name": "stdout",
          "text": [
            "digite seu nome: Jesse Jarvin Gruenewald Nucum\n",
            "digite o nome da sua cidade natal: Santa Maria de Jetibá-ES\n",
            "Quando você nasceu (DD/MM/YYYY): 27/06/2005\n",
            "Seu nome é Jesse Jarvin Gruenewald Nucum, nascido em Santa Maria de Jetibá-ES e sua idade é 19 anos.\n"
          ]
        }
      ]
    },
    {
      "cell_type": "code",
      "execution_count": null,
      "metadata": {
        "id": "7j8F6ag4Zrlt",
        "colab": {
          "base_uri": "https://localhost:8080/"
        },
        "outputId": "3a35751e-0736-408e-9ed6-b8d43b5640ff"
      },
      "outputs": [
        {
          "output_type": "stream",
          "name": "stdout",
          "text": [
            "data e hora atual: 07/03/2025 18:22:00\n",
            "data e hora de São Paulo: 07/03/2025 15:22:00\n"
          ]
        }
      ],
      "source": [
        "from datetime import datetime, date, time, timedelta\n",
        "import pytz\n",
        "\n",
        "data_hora_atual = datetime.now()\n",
        "print('data e hora atual:', data_hora_atual.strftime('%d/%m/%Y %H:%M:%S'))\n",
        "\n",
        "fuso_horario = pytz.timezone('America/Sao_Paulo')\n",
        "data_hora_sao_paulo = datetime.now(fuso_horario)\n",
        "print('data e hora de São Paulo:', data_hora_sao_paulo.strftime('%d/%m/%Y %H:%M:%S'))"
      ]
    },
    {
      "cell_type": "code",
      "source": [
        "from datetime import datetime, date, time, timedelta\n",
        "import pytz\n",
        "\n",
        "# 1. Solicite a data e hora do sistema e exiba-a no seguinte formato: \"dia de mês de ano\", HH:MM:SS\"\n",
        "data_hora_atual = datetime.now()\n",
        "print('data e hora atual:', data_hora_atual.strftime('%d/%m/%Y %H:%M:%S'))\n",
        "\n",
        "# 2. Pedir ao usuário sau dtaa de nascimento (dd/mm/yyyy) e calcule sua idade atual.\n",
        "data_nasc = input('Data de Nascimento DD/MM/YY: ')\n",
        "idade = datetime.now() - datetime.strptime(data_nasc, '%d/%m/%Y')\n",
        "idade = idade.days // 365\n",
        "print(f'Sua idade é {idade} anos.')\n",
        "\n",
        "# 3. Peça ao usuário a data de um evento futuro e calcule quantos dias faltam para ele.\n",
        "Evento = input('Data de um evento futuro DD/MM/YYYY: ')\n",
        "Evento = datetime.strptime(Evento, '%d/%m/%Y')\n",
        "data_evento = (Evento - datetime.now()).days\n",
        "print(f'Faltam {data_evento} dias para o evento.')\n",
        "\n",
        "# 4. Peça ao usuário uma data e informe o dia da semana correspondente.\n",
        "dias = ['Segunda-feira', 'Terça-feira', 'Quarta-feira', 'Quinta-feira', 'Sexta-feira', 'Sábado', 'Domingo']\n",
        "print(f'o dia da semana do evento/ é: {dias[Evento.weekday()]} ')\n",
        "\n",
        "# 5. Exiba a data e hora atuais em três fusos horários diferentes: (São Paulo, Nova York e Tóquio)\n",
        "fuso_1 = pytz.timezone('America/Sao_Paulo')\n",
        "fuso_2 = pytz.timezone('America/New_york')\n",
        "fuso_3 = pytz.timezone('Asia/Tokyo')\n",
        "print(f'São Paulo data e hora: {datetime.now(fuso_1).strftime(\"%d/%m/%Y %H:%M:%S\")}')\n",
        "print(f'Nova York data e hora: {datetime.now(fuso_2).strftime(\"%d/%m/%Y %H:%M:%S\")}')\n",
        "print(f'Tokyo data e hora: {datetime.now(fuso_3).strftime(\"%d/%m/%Y %H:%M:%S\")}')"
      ],
      "metadata": {
        "colab": {
          "base_uri": "https://localhost:8080/"
        },
        "id": "J3DdXxRkAtTn",
        "outputId": "b1e6aae4-dcad-4ae5-f676-4233f09111df"
      },
      "execution_count": null,
      "outputs": [
        {
          "output_type": "stream",
          "name": "stdout",
          "text": [
            "data e hora atual: 07/03/2025 19:40:48\n",
            "Data de Nascimento DD/MM/YY: 27/06/2005\n",
            "Sua idade é 19 anos.\n",
            "Data de um evento futuro DD/MM/YYYY: 26/04/2025\n",
            "Faltam 49 dias para o evento.\n",
            "o dia da semana do evento é: Sábado \n",
            "São Paulo data e hora: 07/03/2025 16:40:55\n",
            "Nova York data e hora: 07/03/2025 14:40:55\n",
            "Tokyo data e hora: 08/03/2025 04:40:55\n"
          ]
        }
      ]
    }
  ]
}