{
  "nbformat": 4,
  "nbformat_minor": 0,
  "metadata": {
    "colab": {
      "provenance": [],
      "toc_visible": true,
      "authorship_tag": "ABX9TyOBp8jy0HJVp8k0rDb1qwtj",
      "include_colab_link": true
    },
    "kernelspec": {
      "name": "python3",
      "display_name": "Python 3"
    },
    "language_info": {
      "name": "python"
    }
  },
  "cells": [
    {
      "cell_type": "markdown",
      "metadata": {
        "id": "view-in-github",
        "colab_type": "text"
      },
      "source": [
        "<a href=\"https://colab.research.google.com/github/JesseJarvin/ALGESTDADOS_20251/blob/main/Algoritmos_e_Estrutura_de_Dados.ipynb\" target=\"_parent\"><img src=\"https://colab.research.google.com/assets/colab-badge.svg\" alt=\"Open In Colab\"/></a>"
      ]
    },
    {
      "cell_type": "code",
      "execution_count": null,
      "metadata": {
        "id": "7j8F6ag4Zrlt"
      },
      "outputs": [],
      "source": []
    },
    {
      "cell_type": "code",
      "source": [
        "num1 = 1930\n",
        "num2 = 1640\n",
        "resultado = num1 + num2\n",
        "print (resultado)\n"
      ],
      "metadata": {
        "colab": {
          "base_uri": "https://localhost:8080/"
        },
        "id": "KFzCS9eJZuOh",
        "outputId": "b13970ec-92b9-496f-a3b9-93d34f13a0c3"
      },
      "execution_count": null,
      "outputs": [
        {
          "output_type": "stream",
          "name": "stdout",
          "text": [
            "3570\n"
          ]
        }
      ]
    },
    {
      "cell_type": "code",
      "source": [
        "num1 = int(input(\"digite um primeiro numero\"))\n",
        "num2 = int(input(\"digite um segundo numero\"))\n",
        "resultado = num1 + num2\n",
        "print (resultado)"
      ],
      "metadata": {
        "colab": {
          "base_uri": "https://localhost:8080/"
        },
        "id": "alfZmxRCbskB",
        "outputId": "783b1889-f4e7-4eab-d016-acb7d77b6167"
      },
      "execution_count": null,
      "outputs": [
        {
          "output_type": "stream",
          "name": "stdout",
          "text": [
            "digite um primeiro numero1\n",
            "digite um segundo numero2\n",
            "3\n"
          ]
        }
      ]
    },
    {
      "cell_type": "code",
      "source": [
        "#Crie um algoritmo em Python que calcule o valor do IMC de uma pessoa\n",
        "num1 = float(input(\"peso: \"))\n",
        "print(f\"seu peso é {num1} Kg\")\n",
        "num2 = float(input(\"altura: \"))\n",
        "print(f\"sua altura é {num2} m\")\n",
        "resultado = num1 / (num2 * num2)\n",
        "print(resultado)\n"
      ],
      "metadata": {
        "colab": {
          "base_uri": "https://localhost:8080/"
        },
        "id": "nLysoWU468e-",
        "outputId": "c080e9f0-c8ce-4c29-e0df-86a5a3d7c94f"
      },
      "execution_count": 13,
      "outputs": [
        {
          "output_type": "stream",
          "name": "stdout",
          "text": [
            "peso: 65\n",
            "seu peso é 65.0 Kg\n",
            "altura: 1.72\n",
            "sua altura é 1.72 m\n",
            "21.971335857220122\n"
          ]
        }
      ]
    }
  ]
}