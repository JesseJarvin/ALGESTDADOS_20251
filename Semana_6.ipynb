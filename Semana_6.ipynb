{
  "nbformat": 4,
  "nbformat_minor": 0,
  "metadata": {
    "colab": {
      "provenance": [],
      "authorship_tag": "ABX9TyNn0LtUdYlGRrAhC1rZ0P9j",
      "include_colab_link": true
    },
    "kernelspec": {
      "name": "python3",
      "display_name": "Python 3"
    },
    "language_info": {
      "name": "python"
    }
  },
  "cells": [
    {
      "cell_type": "markdown",
      "metadata": {
        "id": "view-in-github",
        "colab_type": "text"
      },
      "source": [
        "<a href=\"https://colab.research.google.com/github/JesseJarvin/ALGESTDADOS_20251/blob/main/Aula03_04_04.ipynb\" target=\"_parent\"><img src=\"https://colab.research.google.com/assets/colab-badge.svg\" alt=\"Open In Colab\"/></a>"
      ]
    },
    {
      "cell_type": "code",
      "execution_count": 15,
      "metadata": {
        "colab": {
          "base_uri": "https://localhost:8080/"
        },
        "id": "zQKsylb0YWm7",
        "outputId": "680f6501-6fc4-4c9f-851a-8daf4e49ce77"
      },
      "outputs": [
        {
          "output_type": "stream",
          "name": "stdout",
          "text": [
            "1\n",
            "2\n",
            "3\n",
            "4\n",
            "5\n",
            "6\n",
            "7\n",
            "8\n",
            "9\n",
            "10\n"
          ]
        }
      ],
      "source": [
        "# 1. Escreva um programa que imprima os números de 1 a 10 utilizando um loop while.\n",
        "\n",
        "contador = 1\n",
        "while contador <= 10:\n",
        "  print(contador)\n",
        "  contador += 1"
      ]
    },
    {
      "cell_type": "code",
      "source": [
        "# 2. Escreva um programa que imprima os números de 1 a 10 utilizando um loop for com range().\n",
        "\n",
        "for i in range(1, 11, 1):\n",
        " print(i)"
      ],
      "metadata": {
        "colab": {
          "base_uri": "https://localhost:8080/"
        },
        "id": "PXVUbcneZTSK",
        "outputId": "573b7bd2-8ff8-494b-ca26-e5de40ad6449"
      },
      "execution_count": null,
      "outputs": [
        {
          "output_type": "stream",
          "name": "stdout",
          "text": [
            "1\n",
            "2\n",
            "3\n",
            "4\n",
            "5\n",
            "6\n",
            "7\n",
            "8\n",
            "9\n",
            "10\n"
          ]
        }
      ]
    },
    {
      "cell_type": "code",
      "source": [
        "# 3. Crie um loop for que percorra uma lista de frutas e imprima cada uma delas.\n",
        "\n",
        "lista = [\"abacaxi\", \"banana\", \"carambola\"]\n",
        "for i in range (len(lista)):\n",
        "  indice = i + 1\n",
        "  print(f'{indice}: {lista[i]}')"
      ],
      "metadata": {
        "colab": {
          "base_uri": "https://localhost:8080/"
        },
        "id": "jV0QI3PEZW95",
        "outputId": "f7d91293-6613-489a-9075-f97192320ca7"
      },
      "execution_count": 76,
      "outputs": [
        {
          "output_type": "stream",
          "name": "stdout",
          "text": [
            "1: abacaxi\n",
            "2: banana\n",
            "3: carambola\n"
          ]
        }
      ]
    },
    {
      "cell_type": "code",
      "source": [
        "# 4. Utilize um while para imprimir os números pares de 0 a 20.\n",
        "\n",
        "n = 0\n",
        "while n <= 20:\n",
        "  if n % 2 == 0:\n",
        "    print(n)\n",
        "  n += 1"
      ],
      "metadata": {
        "colab": {
          "base_uri": "https://localhost:8080/"
        },
        "id": "70357kI6ZZIJ",
        "outputId": "f5da1758-ba5f-4c52-c7dd-a61eec662dde"
      },
      "execution_count": 64,
      "outputs": [
        {
          "output_type": "stream",
          "name": "stdout",
          "text": [
            "0\n",
            "2\n",
            "4\n",
            "6\n",
            "8\n",
            "10\n",
            "12\n",
            "14\n",
            "16\n",
            "18\n",
            "20\n"
          ]
        }
      ]
    },
    {
      "cell_type": "code",
      "source": [
        "# 5. Crie um loop for que utilize enumerate() para exibir os índices e valores de uma lista de nomes.\n",
        "\n",
        "lista = ['Ana', 'Bruno', 'Camila', 'Diogo']\n",
        "for indice, valor in enumerate(lista):\n",
        "  indice += 1\n",
        "  print(f'{indice}: {valor}')"
      ],
      "metadata": {
        "colab": {
          "base_uri": "https://localhost:8080/"
        },
        "id": "aH9iOnx2ZbgR",
        "outputId": "26dffe9e-adfc-4071-be9a-00c7626d01eb"
      },
      "execution_count": 57,
      "outputs": [
        {
          "output_type": "stream",
          "name": "stdout",
          "text": [
            "1: Ana\n",
            "2: Bruno\n",
            "3: Camila\n",
            "4: Diogo\n"
          ]
        }
      ]
    },
    {
      "cell_type": "code",
      "source": [
        "# 6. Escreva um programa que peça um número ao usuário e continue pedindo até que o usuário digite um número positivo.\n",
        "\n",
        "num = int(input('Digite um número: '))\n",
        "\n",
        "while num <= 0:\n",
        " num = int(input('Digite outro número: '))\n",
        " break\n",
        "print(f'{num} é positivo!')\n",
        ""
      ],
      "metadata": {
        "id": "xOj4aVkMZdoR",
        "colab": {
          "base_uri": "https://localhost:8080/"
        },
        "outputId": "1c0d1705-9793-4caf-a776-14bdb89ed035"
      },
      "execution_count": 79,
      "outputs": [
        {
          "output_type": "stream",
          "name": "stdout",
          "text": [
            "Digite um número: -1\n",
            "Digite outro número: 1\n",
            "1 é positivo!\n"
          ]
        }
      ]
    },
    {
      "cell_type": "code",
      "source": [
        "# 7. Escreva um loop for que conte de 10 até 0 e, ao final, imprima \"Fim!\".\n",
        "\n",
        "for contador in range(10, -1, -1):\n",
        "    print(contador)\n",
        "print(\"Fim!\")"
      ],
      "metadata": {
        "id": "5EjVDeEiZhGY",
        "colab": {
          "base_uri": "https://localhost:8080/"
        },
        "outputId": "fb933041-67f4-4d0a-b661-ecb4d3bb3620"
      },
      "execution_count": 30,
      "outputs": [
        {
          "output_type": "stream",
          "name": "stdout",
          "text": [
            "10\n",
            "9\n",
            "8\n",
            "7\n",
            "6\n",
            "5\n",
            "4\n",
            "3\n",
            "2\n",
            "1\n",
            "0\n",
            "Fim!\n"
          ]
        }
      ]
    },
    {
      "cell_type": "code",
      "source": [
        "# 8. Escreva um programa que use um while para calcular a soma dos números de 1 a 100.\n",
        "\n",
        "i = 1\n",
        "soma = 0\n",
        "while i <= 100:\n",
        " soma += i\n",
        " i += 1\n",
        "print(soma)"
      ],
      "metadata": {
        "id": "pXK4cgsuZjYP",
        "colab": {
          "base_uri": "https://localhost:8080/"
        },
        "outputId": "1c664c14-3fa2-40c9-bdc0-fdd0d06d0fb4"
      },
      "execution_count": 40,
      "outputs": [
        {
          "output_type": "stream",
          "name": "stdout",
          "text": [
            "5050\n"
          ]
        }
      ]
    },
    {
      "cell_type": "code",
      "source": [
        "# 9. Modifique o exercício anterior para parar a soma se o total ultrapassar 1000, usando break.\n",
        "\n",
        "i = 1\n",
        "soma = 0\n",
        "while i <= 100:\n",
        " soma += i\n",
        " i += 1\n",
        " if soma >= 1000:\n",
        "  break\n",
        "print(soma)\n"
      ],
      "metadata": {
        "id": "L1qUN4u_ZlrX",
        "colab": {
          "base_uri": "https://localhost:8080/"
        },
        "outputId": "ea4af070-ceae-4fb7-f3ca-a879a0f47c1e"
      },
      "execution_count": 63,
      "outputs": [
        {
          "output_type": "stream",
          "name": "stdout",
          "text": [
            "1035\n"
          ]
        }
      ]
    },
    {
      "cell_type": "code",
      "source": [
        "# 10. Crie um programa que peça ao usuário para digitar palavras e as adicione a uma lista até que ele digite \"sair\".\n",
        "\n",
        "palavra = ' '\n",
        "lista = []\n",
        "while palavra.lower() != 'sair':\n",
        "  palavra = input('Digite uma palavra: ')\n",
        "  if palavra != 'sair':\n",
        "    lista.append(palavra)\n",
        "print(lista)\n"
      ],
      "metadata": {
        "id": "V3oUq-sWZnyY",
        "colab": {
          "base_uri": "https://localhost:8080/"
        },
        "outputId": "4a09d877-1105-41dd-c9bd-1d8824541f75"
      },
      "execution_count": 82,
      "outputs": [
        {
          "output_type": "stream",
          "name": "stdout",
          "text": [
            "Digite uma palavra: arroz\n",
            "Digite uma palavra: feijão\n",
            "Digite uma palavra: tomate\n",
            "Digite uma palavra: macarrão\n",
            "Digite uma palavra: sair\n",
            "['arroz', 'feijão', 'tomate', 'macarrão']\n"
          ]
        }
      ]
    },
    {
      "cell_type": "code",
      "source": [
        "# 11. Escreva um loop que percorra os números de 1 a 50 e imprima \"Fizz\" para múltiplos de 3, \"Buzz\" para múltiplos de 5 e \"FizzBuzz\" para múltiplos de ambos.\n"
      ],
      "metadata": {
        "id": "4yEiBIBWZqTf"
      },
      "execution_count": null,
      "outputs": []
    },
    {
      "cell_type": "code",
      "source": [
        "# 12. Utilize um for e in para contar quantas vogais existem em uma string fornecida pelo usuário.\n"
      ],
      "metadata": {
        "id": "5rXmhuwrZqln"
      },
      "execution_count": null,
      "outputs": []
    },
    {
      "cell_type": "code",
      "source": [
        "# 13. Crie um jogo de adivinhação onde o computador escolhe um número entre 1 e 100 e o usuário deve adivinhar. O programa deve dar dicas se o número é maior ou menor.\n"
      ],
      "metadata": {
        "id": "vDZav1FZZrEP"
      },
      "execution_count": null,
      "outputs": []
    },
    {
      "cell_type": "code",
      "source": [
        "# 14. Escreva um programa que utilize while e continue para exibir apenas os números ímpares de 1 a 30.\n"
      ],
      "metadata": {
        "id": "ojFQroWHZrM_"
      },
      "execution_count": null,
      "outputs": []
    },
    {
      "cell_type": "code",
      "source": [
        "# 15. Crie uma tabela de multiplicação de 1 a 10 utilizando loops aninhados."
      ],
      "metadata": {
        "id": "-6K6Rc7AZrUw"
      },
      "execution_count": null,
      "outputs": []
    }
  ]
}
