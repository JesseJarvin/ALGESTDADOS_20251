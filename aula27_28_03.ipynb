{
  "nbformat": 4,
  "nbformat_minor": 0,
  "metadata": {
    "colab": {
      "provenance": [],
      "authorship_tag": "ABX9TyMFioGwAyd9hYs2PEI++uvO",
      "include_colab_link": true
    },
    "kernelspec": {
      "name": "python3",
      "display_name": "Python 3"
    },
    "language_info": {
      "name": "python"
    }
  },
  "cells": [
    {
      "cell_type": "markdown",
      "metadata": {
        "id": "view-in-github",
        "colab_type": "text"
      },
      "source": [
        "<a href=\"https://colab.research.google.com/github/JesseJarvin/ALGESTDADOS_20251/blob/main/aula27_28_03.ipynb\" target=\"_parent\"><img src=\"https://colab.research.google.com/assets/colab-badge.svg\" alt=\"Open In Colab\"/></a>"
      ]
    },
    {
      "cell_type": "code",
      "execution_count": 4,
      "metadata": {
        "colab": {
          "base_uri": "https://localhost:8080/"
        },
        "id": "Cqif8LcAVJxW",
        "outputId": "83c31980-e63a-4125-904a-cf34f517bea5"
      },
      "outputs": [
        {
          "output_type": "stream",
          "name": "stdout",
          "text": [
            "Digite o lado 1 do triângulo: 1\n",
            "Digite o lado 2 do triângulo: 2\n",
            "Digite o lado 3 do triângulo: 3\n",
            "Seu triângulo é escaleno!\n"
          ]
        }
      ],
      "source": [
        "# 1. Peça ao usuário três lados de um triângulo e classifique-o como equilátero, isósceles ou escaleno.\n",
        "\n",
        "lado1 = float(input('Digite o lado 1 do triângulo: '))\n",
        "lado2 = float(input('Digite o lado 2 do triângulo: '))\n",
        "lado3 = float(input('Digite o lado 3 do triângulo: '))\n",
        "\n",
        "if lado1 == lado2 == lado3:\n",
        "  print('Seu triângulo é equilátero!')\n",
        "elif lado1 == lado2 or lado1 == lado3 or lado2 == lado3:\n",
        "  print('Seu triângulo é isóceles!')\n",
        "else:\n",
        "  print('Seu triângulo é escaleno!')"
      ]
    },
    {
      "cell_type": "code",
      "source": [
        "# 2. Peça ao usuário um horário no formato 24h (por exemplo, 13:45) e converta para o formato 12h com AM/PM.\n",
        "from datetime import datetime\n",
        "\n",
        "horario = input('Digite a hora no formato 24h: ')\n",
        "\n",
        "if datetime.strptime(horario, '%H:%M').hour > 12:\n",
        "  hora = int(datetime.strptime(horario, '%H:%M').hour)-12\n",
        "  minuto = int(datetime.strptime(horario, '%H:%M').minute)\n",
        "  print(f'{hora}:{minuto} PM')\n",
        "elif datetime.strptime(horario, '%H:%M').hour == 12:\n",
        "  print(f'{horario} PM')\n",
        "else:\n",
        "  print(f'{hora}:{minuto} AM')"
      ],
      "metadata": {
        "colab": {
          "base_uri": "https://localhost:8080/"
        },
        "id": "687Tu0g3WPZR",
        "outputId": "ddcfcf20-6847-45c1-fc5e-b65c0b698ae8"
      },
      "execution_count": 42,
      "outputs": [
        {
          "output_type": "stream",
          "name": "stdout",
          "text": [
            "Digite a hora no formato 24h: 15:15\n",
            "3:15 PM\n"
          ]
        }
      ]
    },
    {
      "cell_type": "code",
      "source": [
        "# 3. Solicite a idade de um nadador e classifique-o em uma categoria:\n",
        "# - Até 7 anos → Mirim\n",
        "# - 8 a 10 anos → Infantil\n",
        "# - 11 a 13 anos → Juvenil\n",
        "# - 14 a 17 anos → Júnior\n",
        "# - 18 anos ou mais → Sênior\n",
        "\n",
        "idade = int(input('Digite a sua idade: '))\n",
        "\n",
        "if idade < 7:\n",
        "  print('Nadador Mirim!')\n",
        "elif 8 <= idade <= 10:\n",
        "  print('Nadador Infantil!')\n",
        "elif 11 <= idade <= 13:\n",
        "  print('Nadador Juvenil!')\n",
        "elif 14 <= idade <= 17:\n",
        "  print('Nadador Júnior!')\n",
        "else:\n",
        "  print('Nadador Sênior')"
      ],
      "metadata": {
        "colab": {
          "base_uri": "https://localhost:8080/"
        },
        "id": "U3DTXWtDYkBF",
        "outputId": "dbc9fc0a-c388-41f3-e594-83ff966ff889"
      },
      "execution_count": 26,
      "outputs": [
        {
          "output_type": "stream",
          "name": "stdout",
          "text": [
            "Digite a sua idade: 6\n",
            "Nadador Mirim!\n"
          ]
        }
      ]
    },
    {
      "cell_type": "code",
      "source": [
        "# 4. Simule uma partida de Pedra, Papel e Tesoura entre o usuário e o computador (sem aleatoriedade, o jogador deve escolher as duas opções).\n",
        "\n",
        "jog1 = int(input('Pedra: 1; Papel: 2; Tesoura: 3;'))\n",
        "jog2 = int(input('Pedra: 1; Papel: 2; Tesoura: 3;'))\n",
        "\n",
        "if jog1 == jog2:\n",
        "  print('Empate!')\n",
        "elif (jog1 == 1 and jog2 == 2) or (jog1 == 2 and jog2 == 3) or (jog1 == 3 and jog2 == 1):\n",
        "  print('Jogador 2 ganhou!')\n",
        "elif (jog2 == 1 and jog1 == 2) or (jog2 == 2 and jog1 == 3) or (jog2 == 3 and jog1 == 1):\n",
        "  print('Jogador 1 ganhou!')\n",
        "else:\n",
        "  print('Função não definida!')"
      ],
      "metadata": {
        "colab": {
          "base_uri": "https://localhost:8080/"
        },
        "id": "TVREJQd1ajwL",
        "outputId": "44bbb34f-762f-4f1f-ea07-3d56a5942c15"
      },
      "execution_count": 35,
      "outputs": [
        {
          "output_type": "stream",
          "name": "stdout",
          "text": [
            "Pedra: 1; Papel: 2; Tesoura: 3;1\n",
            "Pedra: 1; Papel: 2; Tesoura: 3;2\n",
            "Jogador 2 ganhou!\n"
          ]
        }
      ]
    },
    {
      "cell_type": "code",
      "source": [
        "# 5. Peça uma nota de 0 a 10 e classifique-a:\n",
        "# - A (9-10)\n",
        "# - B (7-8.9)\n",
        "# - C (5-6.9)\n",
        "# - D (3-4.9)\n",
        "# - F (0-2.9)\n",
        "\n",
        "nota = float(input('Digite sua nota: '))\n",
        "\n",
        "if 10 >= nota >= 9:\n",
        "  print('Nota A!')\n",
        "elif 9 > nota >= 7:\n",
        "  print('Nota B!')\n",
        "elif 7 > nota >= 5:\n",
        "  print('Nota C!')\n",
        "elif 5 > nota >= 3:\n",
        "  print('NOta D!')\n",
        "elif 3 > nota >= 0:\n",
        "  print('NOta F!')"
      ],
      "metadata": {
        "colab": {
          "base_uri": "https://localhost:8080/"
        },
        "id": "Y59WhImVcz9v",
        "outputId": "bdb658de-4e73-4847-c101-66a0d2ad8bb5"
      },
      "execution_count": 36,
      "outputs": [
        {
          "output_type": "stream",
          "name": "stdout",
          "text": [
            "Digite sua nota: 8\n",
            "Nota B!\n"
          ]
        }
      ]
    },
    {
      "cell_type": "code",
      "source": [
        "# 6. Solicite o peso e altura do usuário e calcule o IMC. Classifique conforme a tabela:\n",
        "# - Abaixo do peso: < 18.5\n",
        "# - Normal: 18.5 - 24.9\n",
        "# - Sobrepeso: 25 - 29.9\n",
        "# - Obesidade: >= 30\n",
        "\n",
        "peso = float(input('Digite seu peso (Kg): '))\n",
        "altura = float(input('Digite sua altura (m): '))\n",
        "IMC = (peso)/(altura*altura)\n",
        "\n",
        "if IMC < 18.5:\n",
        "  print('Abaixo do peso!')\n",
        "elif 18.5 <= IMC < 25:\n",
        "  print('Peso Normal!!')\n",
        "elif 25 <= IMC < 30:\n",
        "  print('Sobrepeso!')\n",
        "else:\n",
        "  print('Obesidade!')"
      ],
      "metadata": {
        "colab": {
          "base_uri": "https://localhost:8080/"
        },
        "id": "s3GzNMWPeNoh",
        "outputId": "cf4f466d-b65f-4848-cf87-817bf049aff0"
      },
      "execution_count": 37,
      "outputs": [
        {
          "output_type": "stream",
          "name": "stdout",
          "text": [
            "Digite seu peso (Kg): 65\n",
            "Digite sua altura (m): 1.72\n",
            "Peso Normal!!\n"
          ]
        }
      ]
    },
    {
      "cell_type": "code",
      "source": [
        "# 7. Peça uma letra ao usuário e diga se é vogal ou consoante.\n",
        "\n",
        "carac = input('Digite um único caracter qualquer: ')\n",
        "carac = carac.lower()\n",
        "vogais = ['a', 'e', 'i', 'o', 'u']\n",
        "\n",
        "if carac in vogais:\n",
        " print('Seu caracter é uma vogal!')\n",
        "else:\n",
        " print('Seu caracter é uma consoante!')"
      ],
      "metadata": {
        "colab": {
          "base_uri": "https://localhost:8080/"
        },
        "id": "FmpsyTBWfwzg",
        "outputId": "0f11a600-17a7-40aa-bba6-add479691931"
      },
      "execution_count": 38,
      "outputs": [
        {
          "output_type": "stream",
          "name": "stdout",
          "text": [
            "Digite um único caracter qualquer: g\n",
            "Seu caracter é uma consoante!\n"
          ]
        }
      ]
    },
    {
      "cell_type": "code",
      "source": [
        "# 8. Solicite o valor da compra e aplique descontos:\n",
        "# - Até R$ 100,00 → sem desconto\n",
        "# - De R$ 100,01 a R$ 500,00 → 10% de desconto\n",
        "# - Acima de R$ 500,00 → 20% de desconto\n",
        "\n",
        "valor = float(input('Digite  valor da compra: '))\n",
        "\n",
        "if valor <= 100:\n",
        "  print(f'Valor da compra é R${valor}!')\n",
        "elif 100 < valor <= 500:\n",
        "  vl1 = valor*0.9\n",
        "  print(f'Valor da compra é R${vl1}!')\n",
        "else:\n",
        "  vl2 = valor*0.8\n",
        "  print(f'Valor da compra é R${vl2}!')"
      ],
      "metadata": {
        "colab": {
          "base_uri": "https://localhost:8080/"
        },
        "id": "UlQn3ZjEgPjf",
        "outputId": "32c7fab7-00b5-4256-e135-337028563754"
      },
      "execution_count": 45,
      "outputs": [
        {
          "output_type": "stream",
          "name": "stdout",
          "text": [
            "Digite  valor da compra: 1000\n",
            "Valor da compra é R$800.0!\n"
          ]
        }
      ]
    },
    {
      "cell_type": "code",
      "source": [
        "# 9. Crie um programa que calcula o preço do estacionamento:\n",
        "# - Até 2h → R$ 5,00 por hora\n",
        "# - De 2h a 5h → R$ 4,00 por hora\n",
        "# - Mais de 5h → R$ 3,00 por hora\n",
        "\n",
        "hora =\n"
      ],
      "metadata": {
        "id": "nBP9zyT7jDoU"
      },
      "execution_count": null,
      "outputs": []
    },
    {
      "cell_type": "code",
      "source": [
        "# 10. Peça ao usuário um número e classifique-o:\n",
        "# - Positivo e par\n",
        "# - Positivo e ímpar\n",
        "# - Negativo e par\n",
        "# - Negativo e ímpar\n",
        "# - Zero\n",
        "\n",
        "num = int(input('Digite um número: '))\n",
        "\n",
        "if num > 0:\n",
        "  if num % 2 == 0:\n",
        "    print('Seu número é positivo e par!')\n",
        "  else:\n",
        "    print('Seu número é positivo e ímpar!')\n",
        "elif num < 0:\n",
        "  if num % 2 == 0:\n",
        "    print('Seu número é negativo e par!')\n",
        "  else:\n",
        "    print('Seu número é negativo e ímpar!')\n",
        "else:\n",
        "  print('Seu número é zero!')"
      ],
      "metadata": {
        "colab": {
          "base_uri": "https://localhost:8080/"
        },
        "id": "2y1GhN3fk2_P",
        "outputId": "436d509c-b6a6-419d-f240-2a0cd3efcd05"
      },
      "execution_count": 49,
      "outputs": [
        {
          "output_type": "stream",
          "name": "stdout",
          "text": [
            "Digite um número: 0\n",
            "Seu número é zero!\n"
          ]
        }
      ]
    },
    {
      "cell_type": "code",
      "source": [
        "# 11. Solicite o consumo de energia em kWh e calcule a tarifa:\n",
        "# - Até 100 kWh → R$ 0,50 por kWh\n",
        "# - De 101 a 300 kWh → R$ 0,75 por kWh\n",
        "# - Acima de 300 kWh → R$ 1,00 por kWh\n",
        "\n",
        "cons = float(input('Digite o consumo de energia em KWh: '))\n",
        "\n",
        "if cons <= 100:\n",
        "  valor = cons * 0.50\n",
        "  print(f'Sua tarifa é de R${valor}!')\n",
        "elif 100 < cons <= 300:\n",
        "  valor1 = cons * 0.75\n",
        "  print(f'Sua tarifa é de R${valor1}!')\n",
        "else:\n",
        "  print(f'Sua tarifa é de R${cons}!')"
      ],
      "metadata": {
        "colab": {
          "base_uri": "https://localhost:8080/"
        },
        "id": "QXZuiwGrlOGZ",
        "outputId": "61b99e25-aa1a-4afc-d35d-8027cec46973"
      },
      "execution_count": 55,
      "outputs": [
        {
          "output_type": "stream",
          "name": "stdout",
          "text": [
            "Digite o consumo de energia em KWh: 1000\n",
            "Sua tarifa é de R$1000.0!\n"
          ]
        }
      ]
    },
    {
      "cell_type": "code",
      "source": [
        "# 12. Peça a temperatura em °C e classifique:\n",
        "# - Muito frio (< 10°C)\n",
        "# - Frio (10°C a 20°C)\n",
        "# - Agradável (21°C a 30°C)\n",
        "# - Quente (31°C a 40°C)\n",
        "# - Muito quente (> 40°C)\n",
        "\n",
        "temp = float(input('Digite a temperatura em °C: '))\n",
        "\n",
        "if temp < 10:\n",
        "  print('Muito frio!')\n",
        "elif 10 <= temp <= 20:\n",
        "  print('Frio!')\n",
        "elif 20 < temp <= 30:\n",
        "  print('Agradável!')\n",
        "elif 30 < temp <= 40:\n",
        "  print('Quente!')\n",
        "else:\n",
        "  print('Muito quente!')"
      ],
      "metadata": {
        "colab": {
          "base_uri": "https://localhost:8080/"
        },
        "id": "mnKnQ-1wmU_l",
        "outputId": "fddf9965-a13c-486c-92ef-1112b08c49be"
      },
      "execution_count": 56,
      "outputs": [
        {
          "output_type": "stream",
          "name": "stdout",
          "text": [
            "Digite a temperatura em °C: 35\n",
            "Quente!\n"
          ]
        }
      ]
    },
    {
      "cell_type": "code",
      "source": [
        "# 13. Solicite um CPF ao usuário (somente números). Verifique se tem exatamente 11 dígitos e exiba \"CPF válido\" ou \"CPF inválido\".\n",
        "\n",
        "cpf = input('Digite seu CPF (somente números): ')\n",
        "\n",
        "if len(cpf) == 11:\n",
        "  print('CPF válido!')\n",
        "else:\n",
        "  print('CPF inválido')"
      ],
      "metadata": {
        "colab": {
          "base_uri": "https://localhost:8080/"
        },
        "id": "t7Enm_jknAwe",
        "outputId": "d63d7c2f-abe2-4c31-e042-30ff08f3d65b"
      },
      "execution_count": 58,
      "outputs": [
        {
          "output_type": "stream",
          "name": "stdout",
          "text": [
            "Digite seu CPF (somente números): 12345678910\n",
            "CPF válido!\n"
          ]
        }
      ]
    },
    {
      "cell_type": "code",
      "source": [
        "# 14. Peça a velocidade de um carro e classifique:\n",
        "# - Até 40 km/h → Muito lento\n",
        "# - 41 a 60 km/h → Velocidade moderada\n",
        "# - 61 a 80 km/h → Rápido\n",
        "# - Acima de 80 km/h → Muito rápido\n",
        "\n",
        "vel = int(input('Digite a velocidade do carro em km/h: '))\n",
        "\n",
        "if vel <= 40:\n",
        "  print('Muito lento!')\n",
        "elif 40 < vel <= 60:\n",
        "  print('Velocidade moderada!')\n",
        "elif 60 < vel <= 80:\n",
        "  print('Rapido!')\n",
        "else:\n",
        "  print('Muito rápido!')"
      ],
      "metadata": {
        "colab": {
          "base_uri": "https://localhost:8080/"
        },
        "id": "YTHjP7idniO_",
        "outputId": "674bb085-3ec7-41d8-d713-b6e4614e6afa"
      },
      "execution_count": 59,
      "outputs": [
        {
          "output_type": "stream",
          "name": "stdout",
          "text": [
            "Digite a velocidade do carro em km/h: 55\n",
            "Velocidade moderada!\n"
          ]
        }
      ]
    },
    {
      "cell_type": "code",
      "source": [
        "# 15. Solicite uma placa de veículo e verifique se ela segue o formato ABC1D23 (três letras, um número, uma letra e dois números). Caso contrário, exiba \"Placa inválida\".\n",
        "\n",
        "placa = input('Digite a placa do automóvel: ')\n",
        "\n",
        "if len(placa) != 7:\n",
        "  print('Placa inválida')\n"
      ],
      "metadata": {
        "colab": {
          "base_uri": "https://localhost:8080/"
        },
        "id": "AUaVUlQbnwh2",
        "outputId": "2f0482ed-97eb-4d92-fc69-3c9bf03f564b"
      },
      "execution_count": 61,
      "outputs": [
        {
          "output_type": "stream",
          "name": "stdout",
          "text": [
            "Digite a placa do automóvel: SDC3S123\n",
            "Placa inválida!\n"
          ]
        }
      ]
    }
  ]
}