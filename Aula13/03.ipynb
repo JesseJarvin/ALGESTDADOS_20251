{
  "cells": [
    {
      "cell_type": "markdown",
      "metadata": {
        "id": "view-in-github",
        "colab_type": "text"
      },
      "source": [
        "<a href=\"https://colab.research.google.com/github/JesseJarvin/ALGESTDADOS_20251/blob/main/Aula13/03.ipynb\" target=\"_parent\"><img src=\"https://colab.research.google.com/assets/colab-badge.svg\" alt=\"Open In Colab\"/></a>"
      ]
    },
    {
      "cell_type": "code",
      "source": [
        "#Exercícios de Sala de Aula - 13-03\n",
        "\n",
        "# 1. Peça dois números ao usuário e exiba a soma.\n",
        "# 2. Solicite o primeiro e o último nome do usuário e exiba o nome completo.\n",
        "# 3. Peça uma palavra e um número ao usuário e exiba a palavra repetida esse número de vezes.\n",
        "# 4. Solicite um texto e exiba-o em letras maiúsculas.\n",
        "# 5. Peça uma palavra e exiba quantos caracteres ela tem.\n",
        "# 6. Mostre a data e a hora atuais.\n",
        "# 7. Solicite o ano de nascimento do usuário e calcule a idade aproximada.\n",
        "# 8. Peça três números ao usuário e exiba a média aritmética.\n",
        "# 9. Solicite a data de nascimento do usuário no formato AAAA-MM-DD e calcule aproximadamente quantos dias ele já viveu.\n",
        "# 10. Solicite uma data no formato AAAA-MM-DD e exiba-a no formato DD/MM/AAAA."
      ],
      "metadata": {
        "id": "sHq4IAZMQvE4"
      },
      "execution_count": null,
      "outputs": []
    },
    {
      "cell_type": "code",
      "source": [
        "# 1. Peça dois números ao usuário e exiba a soma.\n",
        "num1 = int(input('Digite um primeiro número'))\n",
        "num2 = int(input('Digite um segundo número'))\n",
        "resultado = num1 + num2\n",
        "print(f'A soma é {resultado}.')"
      ],
      "metadata": {
        "id": "PjmETeLnSe8o",
        "outputId": "4f86c623-ecee-4545-805f-638b731bfbc6",
        "colab": {
          "base_uri": "https://localhost:8080/"
        }
      },
      "execution_count": 33,
      "outputs": [
        {
          "output_type": "stream",
          "name": "stdout",
          "text": [
            "Digite um primeiro número10\n",
            "Digite um segundo número15\n",
            "A soma é 25.\n"
          ]
        }
      ]
    },
    {
      "cell_type": "code",
      "source": [
        "# 2. Solicite o primeiro e o último nome do usuário e exiba o nome completo.\n",
        "nome1 = input('Digite seu primeiro nome: ')\n",
        "nome2 = input('Digite seu último nome: ')\n",
        "Nome = (nome1 + ' ' + nome2)\n",
        "print(f'Mr. {Nome}.')"
      ],
      "metadata": {
        "id": "1_YrWIF5TtIB",
        "outputId": "1ce46d18-9f75-400b-deee-f7ef5997e8d6",
        "colab": {
          "base_uri": "https://localhost:8080/"
        }
      },
      "execution_count": 45,
      "outputs": [
        {
          "output_type": "stream",
          "name": "stdout",
          "text": [
            "Digite seu primeiro nome: Jesse\n",
            "Digite seu último nome: Nucum\n",
            "Mr. Jesse Nucum.\n"
          ]
        }
      ]
    },
    {
      "cell_type": "code",
      "source": [
        "# 3. Peça uma palavra e um número ao usuário e exiba a palavra repetida esse número de vezes.\n",
        "palavra = input('Digite uma palavra: ')\n",
        "numero = int(input('Digite um número: '))\n",
        "print((palavra + '\\n') * numero)\n"
      ],
      "metadata": {
        "id": "hDANgXblT_gz",
        "outputId": "15f57f84-cc02-4c4a-e904-54d50c09374c",
        "colab": {
          "base_uri": "https://localhost:8080/"
        }
      },
      "execution_count": 17,
      "outputs": [
        {
          "output_type": "stream",
          "name": "stdout",
          "text": [
            "Digite uma palavra: Flamengo\n",
            "Digite um número: 10\n",
            "Flamengo\n",
            "Flamengo\n",
            "Flamengo\n",
            "Flamengo\n",
            "Flamengo\n",
            "Flamengo\n",
            "Flamengo\n",
            "Flamengo\n",
            "Flamengo\n",
            "Flamengo\n",
            "\n"
          ]
        }
      ]
    },
    {
      "cell_type": "code",
      "source": [
        "# 4. Solicite um texto e exiba-o em letras maiúsculas.\n",
        "texto = input('Digite um texto: ')\n",
        "print(texto.upper())"
      ],
      "metadata": {
        "id": "wHsTXEP0WBSR",
        "outputId": "90e8e703-06f1-489c-c083-a298433bcc4f",
        "colab": {
          "base_uri": "https://localhost:8080/"
        }
      },
      "execution_count": 19,
      "outputs": [
        {
          "output_type": "stream",
          "name": "stdout",
          "text": [
            "Digite um texto: Uma vez Flamengo Sempre Flamengo Flamengo sempre, eu hei de ser É o meu maior prazer vê-lo brilhar Seja na terra, seja no mar Vencer, vencer, vencer! Uma vez Flamengo Flamengo até morrer!\n",
            "UMA VEZ FLAMENGO SEMPRE FLAMENGO FLAMENGO SEMPRE, EU HEI DE SER É O MEU MAIOR PRAZER VÊ-LO BRILHAR SEJA NA TERRA, SEJA NO MAR VENCER, VENCER, VENCER! UMA VEZ FLAMENGO FLAMENGO ATÉ MORRER!\n"
          ]
        }
      ]
    },
    {
      "cell_type": "code",
      "source": [
        "# 5. Peça uma palavra e exiba quantos caracteres ela tem.\n",
        "palavra = input('Digite uma palavra: ')\n",
        "caracteres = len(palavra)\n",
        "print(f'Sua palavra tem {caracteres} caracteres.')"
      ],
      "metadata": {
        "id": "f31PnWKuWD_Q",
        "outputId": "4beb8da0-a121-4841-e8fa-5961c08ccf21",
        "colab": {
          "base_uri": "https://localhost:8080/"
        }
      },
      "execution_count": 44,
      "outputs": [
        {
          "output_type": "stream",
          "name": "stdout",
          "text": [
            "Digite uma palavra: Flamengo\n",
            "Sua palavra tem 8 caracteres.\n"
          ]
        }
      ]
    },
    {
      "cell_type": "code",
      "source": [
        "# 6. Mostre a data e a hora atuais.\n",
        "from datetime import datetime\n",
        "import pytz\n",
        "data_hora_atual = datetime.now()\n",
        "fuso_horario = pytz.timezone('America/Sao_Paulo')\n",
        "data_hora_sao_paulo = datetime.now(fuso_horario)\n",
        "print('data e hora de São Paulo:', data_hora_sao_paulo.strftime('%d/%m/%Y %H:%M:%S'))"
      ],
      "metadata": {
        "id": "1VE0xKkNWGwI",
        "outputId": "7f4f2a2d-1cd0-4b02-ca6e-5a2a8c87f130",
        "colab": {
          "base_uri": "https://localhost:8080/"
        }
      },
      "execution_count": 53,
      "outputs": [
        {
          "output_type": "stream",
          "name": "stdout",
          "text": [
            "data e hora de São Paulo: 13/03/2025 13:56:55\n"
          ]
        }
      ]
    },
    {
      "cell_type": "code",
      "source": [
        "# 7. Solicite o ano de nascimento do usuário e calcule a idade aproximada.\n",
        "ano_nasc = int(input('digite seu ano de nascimento'))\n",
        "idade_aproximada = 2025 - ano_nasc\n",
        "print(f'Sua idade aproximada é {idade_aproximada}.')"
      ],
      "metadata": {
        "id": "Ccc8TzjNWJIg",
        "outputId": "369b2828-65f1-4379-f27d-035e1f531805",
        "colab": {
          "base_uri": "https://localhost:8080/"
        }
      },
      "execution_count": 51,
      "outputs": [
        {
          "output_type": "stream",
          "name": "stdout",
          "text": [
            "digite seu ano de nascimento2005\n",
            "Sua idade aproximada é 20.\n"
          ]
        }
      ]
    },
    {
      "cell_type": "code",
      "source": [
        "# 8. Peça três números ao usuário e exiba a média aritmética.\n",
        "num1 = int(input('Digite um primeiro número: '))\n",
        "num2 = int(input('Digite um segundo número: '))\n",
        "num3 = int(input('Digite um terceiro número: '))\n",
        "media = (num1 + num2 + num3) / 3\n",
        "print(f'Média aritmética é: {media}')"
      ],
      "metadata": {
        "id": "EESqJYY8WK3B",
        "outputId": "757b7b46-efbe-4692-940c-976eb495e80c",
        "colab": {
          "base_uri": "https://localhost:8080/"
        }
      },
      "execution_count": 52,
      "outputs": [
        {
          "output_type": "stream",
          "name": "stdout",
          "text": [
            "Digite um primeiro número: 10\n",
            "Digite um segundo número: 15\n",
            "Digite um terceiro número: 50\n",
            "Média aritmética é: 25.0\n"
          ]
        }
      ]
    },
    {
      "cell_type": "code",
      "source": [
        "# 9. Solicite a data de nascimento do usuário no formato AAAA-MM-DD e calcule aproximadamente quantos dias ele já viveu.\n",
        "from datetime import datetime\n",
        "data_nasc = input('Digite sua data de nascimento no formato AAAA-MM-DD: ')\n",
        "data_nasc = datetime.strptime(data_nasc, '%Y-%m-%d')\n",
        "data_atual = datetime.now()\n",
        "dias_vividos = (data_atual - data_nasc).days\n",
        "print(f'Você ja viveu {dias_vividos} dias.')"
      ],
      "metadata": {
        "id": "gJJVSiXgWNFp",
        "outputId": "186b69a1-7ca1-4147-92ba-522f74285b99",
        "colab": {
          "base_uri": "https://localhost:8080/"
        }
      },
      "execution_count": 32,
      "outputs": [
        {
          "output_type": "stream",
          "name": "stdout",
          "text": [
            "Digite sua data de nascimento no formato AAAA-MM-DD: 2005-06-27\n",
            "Você ja viveu 7199 dias.\n"
          ]
        }
      ]
    },
    {
      "cell_type": "code",
      "source": [
        "# 10. Solicite uma data no formato AAAA-MM-DD e exiba-a no formato DD/MM/AAAA.\n",
        "data = input('Digite uma data no formato AAAA-MM-DD: ')\n",
        "data = datetime.strptime(data, '%Y-%m-%d')\n",
        "data_formatada = data.strftime('%d/%m/%Y')\n",
        "print(f'Data formatada: {data_formatada}')"
      ],
      "metadata": {
        "id": "w0RRQtsrWPQJ",
        "outputId": "ac0330e6-a152-46d5-d645-976efc3e7058",
        "colab": {
          "base_uri": "https://localhost:8080/"
        }
      },
      "execution_count": 54,
      "outputs": [
        {
          "output_type": "stream",
          "name": "stdout",
          "text": [
            "Digite uma data no formato AAAA-MM-DD: 2024-04-26\n",
            "Data formatada: 26/04/2024\n"
          ]
        }
      ]
    }
  ],
  "metadata": {
    "colab": {
      "name": "Olá, este é o Colaboratory",
      "provenance": [],
      "include_colab_link": true
    },
    "kernelspec": {
      "display_name": "Python 3",
      "name": "python3"
    }
  },
  "nbformat": 4,
  "nbformat_minor": 0
}