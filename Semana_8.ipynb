{
  "nbformat": 4,
  "nbformat_minor": 0,
  "metadata": {
    "colab": {
      "provenance": [],
      "authorship_tag": "ABX9TyNxBn27wR7ImTgfQCK92bQv",
      "include_colab_link": true
    },
    "kernelspec": {
      "name": "python3",
      "display_name": "Python 3"
    },
    "language_info": {
      "name": "python"
    }
  },
  "cells": [
    {
      "cell_type": "markdown",
      "metadata": {
        "id": "view-in-github",
        "colab_type": "text"
      },
      "source": [
        "<a href=\"https://colab.research.google.com/github/JesseJarvin/ALGESTDADOS_20251/blob/main/Semana_8.ipynb\" target=\"_parent\"><img src=\"https://colab.research.google.com/assets/colab-badge.svg\" alt=\"Open In Colab\"/></a>"
      ]
    },
    {
      "cell_type": "code",
      "execution_count": 3,
      "metadata": {
        "colab": {
          "base_uri": "https://localhost:8080/"
        },
        "id": "4z5Trv8GkZaR",
        "outputId": "e276daee-4677-4c2a-9ad5-6cae2364d4d7"
      },
      "outputs": [
        {
          "output_type": "stream",
          "name": "stdout",
          "text": [
            "Digite sua idade: 65\n",
            "Você é idoso(a)!\n"
          ]
        }
      ],
      "source": [
        "#1 Escreva um programa que leia a idade de uma pessoa e diga se ela é menor de idade (menos de 18 anos), maior de idade (entre 18 e 60) ou idosa (mais de 60 anos). Use if, elif e else.\n",
        "\n",
        "idade = int(input('Digite sua idade: '))\n",
        "\n",
        "if idade < 18:\n",
        "  print('Você é menor de idade!')\n",
        "elif idade > 60:\n",
        "  print('Você é idoso(a)!')\n",
        "else:\n",
        "  print('Você é maior de idade!')"
      ]
    },
    {
      "cell_type": "code",
      "source": [
        "#2 Faça um programa que leia um número inteiro e diga se ele é par, ímpar ou igual a zero, usando uma estrutura condicional.\n",
        "\n",
        "num = int(input('Digite um número: '))\n",
        "if num == 0:\n",
        " print(f'{num} é nulo!')\n",
        "elif num%2 == 0:\n",
        " print(f'{num} é par!')\n",
        "else:\n",
        "  print(f'{num} é ímpar!')"
      ],
      "metadata": {
        "colab": {
          "base_uri": "https://localhost:8080/"
        },
        "id": "Lkz_BNwDkiUg",
        "outputId": "1d839ed8-a27b-42ed-a3c5-ae4166d72e9a"
      },
      "execution_count": 9,
      "outputs": [
        {
          "output_type": "stream",
          "name": "stdout",
          "text": [
            "Digite um número: 15\n",
            "15 é ímpar!\n"
          ]
        }
      ]
    },
    {
      "cell_type": "code",
      "source": [
        "#3 Crie um programa que leia dois números inteiros e mostre qual dos dois é o maior, qual é o menor ou se os dois são iguais. Use estruturas if, elif e else.\n",
        "\n",
        "num1 = int(input('Digite um número: '))\n",
        "num2 = int(input('Digite mais um número: '))\n",
        "\n",
        "if num1 > num2:\n",
        "  print(f'{num1} é maior que {num2}')\n",
        "elif num1 == num2:\n",
        "  print('Os dois números são iguais')\n",
        "else:\n",
        "  print(f'{num2} é maior que {num1}')"
      ],
      "metadata": {
        "colab": {
          "base_uri": "https://localhost:8080/"
        },
        "id": "VK1azGWWklkn",
        "outputId": "7799864e-d999-4f85-f089-7125c3427dc0"
      },
      "execution_count": 20,
      "outputs": [
        {
          "output_type": "stream",
          "name": "stdout",
          "text": [
            "Digite um número: 10\n",
            "Digite mais um número: 4\n",
            "10 é maior que 4\n"
          ]
        }
      ]
    },
    {
      "cell_type": "code",
      "source": [
        "#4 Escreva um programa que leia um número de 1 a 7 e mostre o dia da semana correspondente (por exemplo, 1 = segunda-feira, 2 = terça, etc). Se o número for inválido (menor que 1 ou maior que 7), mostre uma mensagem de erro. Use if, elif e else.\n",
        "\n",
        "num = int(input('Digite um número de 1 a 7!'))\n",
        "\n",
        "if num == 1:\n",
        "  print('O dia da semana é Domingo!')\n",
        "elif num == 2:\n",
        "  print('O dia da semana é Segunda-feira!')\n",
        "elif num == 3:\n",
        "  print('O dia da semana é Terça-feira!')\n",
        "elif num == 4:\n",
        "  print('O dia da semana é Quarta-feira!')\n",
        "elif num == 5:\n",
        "  print('O dia da semana é Quinta-feira!')\n",
        "elif num == 6:\n",
        "  print('O dia da semana é Sexta-feira!')\n",
        "elif num == 7:\n",
        "  print('O dia da semana é Sábado!')\n",
        "else:\n",
        "  print('Opção inválida!')"
      ],
      "metadata": {
        "colab": {
          "base_uri": "https://localhost:8080/"
        },
        "id": "FfoedN1lkoKH",
        "outputId": "e7833fae-5e3f-4923-ca2d-064c058d5444"
      },
      "execution_count": 26,
      "outputs": [
        {
          "output_type": "stream",
          "name": "stdout",
          "text": [
            "Digite um número de 1 a 7!8\n",
            "Opção inválida!\n"
          ]
        }
      ]
    },
    {
      "cell_type": "code",
      "source": [
        "#5 Escreva um programa com for in range que imprima os números de 1 a 10, dizendo se cada número é par ou ímpar.\n",
        "\n",
        "for i in range(1, 11, 1):\n",
        "  print(i)"
      ],
      "metadata": {
        "colab": {
          "base_uri": "https://localhost:8080/"
        },
        "id": "_MXj7fz3ow8z",
        "outputId": "1b2e28a7-7326-4114-aedc-3a5f69ada368"
      },
      "execution_count": 29,
      "outputs": [
        {
          "output_type": "stream",
          "name": "stdout",
          "text": [
            "1\n",
            "2\n",
            "3\n",
            "4\n",
            "5\n",
            "6\n",
            "7\n",
            "8\n",
            "9\n",
            "10\n"
          ]
        }
      ]
    },
    {
      "cell_type": "code",
      "source": [
        "#6 Crie um programa com while que leia vários números inteiros. O programa deve continuar enquanto o número digitado não for igual a zero. Ao final, mostre quantos números positivos e quantos negativos foram digitados.\n",
        "\n",
        "num = 1\n",
        "positivos = 0\n",
        "negativos = 0\n",
        "\n",
        "while num != 0:\n",
        "  num = int(input('Digite um número: '))\n",
        "  if num > 0:\n",
        "    positivos += 1\n",
        "  elif num < 0:\n",
        "    negativos += 1\n",
        "print(f'{positivos} positivos e {negativos} negativos!')"
      ],
      "metadata": {
        "colab": {
          "base_uri": "https://localhost:8080/"
        },
        "id": "pjjZr79doxX6",
        "outputId": "8e6c8832-ed05-40bd-eca4-934aeb7518b5"
      },
      "execution_count": 32,
      "outputs": [
        {
          "output_type": "stream",
          "name": "stdout",
          "text": [
            "Digite um número: -1\n",
            "Digite um número: -2\n",
            "Digite um número: -3\n",
            "Digite um número: 1\n",
            "Digite um número: 2\n",
            "Digite um número: 3\n",
            "Digite um número: 4\n",
            "Digite um número: 0\n",
            "4 positivos e 3 negativos!\n"
          ]
        }
      ]
    },
    {
      "cell_type": "code",
      "source": [
        "#7 Faça um programa com for que conte de 10 até 1 (ordem decrescente). Para cada número, diga se ele é múltiplo de 3 ou não.\n",
        "\n"
      ],
      "metadata": {
        "id": "dfXdEynAoxav"
      },
      "execution_count": null,
      "outputs": []
    },
    {
      "cell_type": "code",
      "source": [
        "#8 Escreva um programa com while True que peça a senha do usuário até que ele digite a senha correta (por exemplo, \"1234\"). Quando a senha for correta, o programa deve mostrar uma mensagem de acesso permitido e encerrar.\n",
        "\n"
      ],
      "metadata": {
        "id": "DTxmlQEvoxfC"
      },
      "execution_count": null,
      "outputs": []
    },
    {
      "cell_type": "code",
      "source": [
        "#9 Crie um programa com for in range para ler 5 números inteiros, um por vez. Ao final, mostre quantos desses números são maiores que 100.\n",
        "\n"
      ],
      "metadata": {
        "id": "ghV0QF6roxhY"
      },
      "execution_count": null,
      "outputs": []
    },
    {
      "cell_type": "code",
      "source": [
        "#10 Escreva um programa com while que leia a idade de várias pessoas. O programa deve continuar até que uma idade negativa seja digitada. No final, mostre a média das idades válidas digitadas.\n",
        "\n",
        "#11 Escreva um programa com for que leia um número inteiro e exiba a tabuada de multiplicação desse número de 1 até 10.\n",
        "\n",
        "#12 Escreva um programa com while que simule um caixa eletrônico. Peça ao usuário o valor do saque (apenas valores múltiplos de 2) e calcule quantas notas de 50, 20, 10, 5 e 2 são necessárias. Não use listas. Mostre o total de cada nota usada.\n",
        "\n",
        "#13 Escreva um programa com for que leia 10 números inteiros e diga ao final quantos deles são pares e quantos são ímpares.\n",
        "\n",
        "#14 Crie um programa com while que leia um número inteiro positivo. Se o usuário digitar um número negativo, o programa deve mostrar uma mensagem de erro e continuar pedindo até que um número válido seja digitado.\n",
        "\n",
        "#15 Escreva um programa com for e enumerate que mostre os números de 5 até 15. Para cada número, diga sua posição na sequência (iniciando do 0) e se ele é par ou ímpar.\n",
        "\n",
        "#16 Escreva um programa com while que simule uma votação. O usuário pode votar no candidato A (1), candidato B (2) ou encerrar (0). O programa deve continuar até que o número 0 seja digitado. Ao final, mostre a quantidade de votos para cada candidato.\n",
        "\n",
        "#17 Escreva um programa com for in range que percorra os números de 1 a 50. Para cada número, diga se ele é divisível por 5, por 7, por ambos, ou por nenhum dos dois.\n",
        "\n",
        "#18 Escreva um programa com while que leia dois números inteiros e diga qual é o maior. Depois, pergunte ao usuário se ele deseja comparar outros dois números. O programa só termina se a resposta for diferente de \"s\".\n",
        "\n",
        "#19 Escreva um programa com for in que leia uma palavra de até 10 letras, pedindo uma letra por vez. Ao final, o programa deve mostrar quais letras são vogais e quais são consoantes. Não use listas.\n",
        "\n",
        "#20 Escreva um programa com while que simule um menu de opções: (1) Sacar, (2) Depositar, (3) Sair. O menu deve ser mostrado repetidamente até que o usuário escolha a opção 3 para sair."
      ],
      "metadata": {
        "id": "z4A0ClIFoxjc"
      },
      "execution_count": null,
      "outputs": []
    }
  ]
}