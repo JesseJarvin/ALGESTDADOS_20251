{
  "nbformat": 4,
  "nbformat_minor": 0,
  "metadata": {
    "colab": {
      "provenance": [],
      "name": "semana_12_13.ipynb",
      "authorship_tag": "ABX9TyP4iZzkJoz8LSkLssEvWJSO",
      "include_colab_link": true
    },
    "kernelspec": {
      "name": "python3",
      "display_name": "Python 3"
    },
    "language_info": {
      "name": "python"
    }
  },
  "cells": [
    {
      "cell_type": "markdown",
      "metadata": {
        "id": "view-in-github",
        "colab_type": "text"
      },
      "source": [
        "<a href=\"https://colab.research.google.com/github/JesseJarvin/ALGESTDADOS_20251/blob/main/semana_12_13.ipynb\" target=\"_parent\"><img src=\"https://colab.research.google.com/assets/colab-badge.svg\" alt=\"Open In Colab\"/></a>"
      ]
    },
    {
      "cell_type": "code",
      "source": [
        "#1 Crie um algoritmo que simule um sistema de reservas de um restaurante. O programa deve solicitar o número de pessoas para a reserva e verificar se há disponibilidade,\n",
        "#considerando que o restaurante possui apenas mesas de 4 lugares. Se o número de pessoas exceder a capacidade de uma mesa, o programa deve calcular quantas mesas serão necessárias e informar ao usuário.​\n",
        "\n",
        "mesas = 5\n",
        "lugares = mesas * 4\n",
        "\n",
        "while True:\n",
        "    reservas = int(input('Quantidade de pessoas: '))\n",
        "\n",
        "    if reservas <= lugares:\n",
        "        mesas_necessarias = reservas // 4\n",
        "        if reservas % 4 != 0:\n",
        "            mesas_necessarias += 1\n",
        "            pessoas_ajustadas = mesas_necessarias * 4\n",
        "        else:\n",
        "            pessoas_ajustadas = reservas\n",
        "\n",
        "        if mesas_necessarias <= mesas:\n",
        "            print(f'Foi reservado {mesas_necessarias} mesas para {reservas} pessoas')\n",
        "            mesas -= mesas_necessarias\n",
        "            lugares -= pessoas_ajustadas\n",
        "            print(f'Ainda restam {mesas} mesas com {lugares} lugares.')\n",
        "        else:\n",
        "            print(f'Não há mesas suficientes para acomodar {reservas} pessoas.')\n",
        "            print(f'Só restam {mesas} mesas com {lugares} lugares.')\n",
        "    else:\n",
        "        print(f'Não comporta, só restam {mesas} mesas com {lugares} lugares.')\n",
        "\n",
        "    opc = input('Deseja continuar? (S/N) ')\n",
        "    if opc.upper() == 'N':\n",
        "        print('Tchau!')\n",
        "        break\n"
      ],
      "metadata": {
        "id": "TtwFbTxkrIXj",
        "colab": {
          "base_uri": "https://localhost:8080/"
        },
        "outputId": "e8a6b19a-3176-40ea-dd52-0e9b29874a5a"
      },
      "execution_count": null,
      "outputs": [
        {
          "output_type": "stream",
          "name": "stdout",
          "text": [
            "Quantidade de pessoas: 15\n",
            "Foi reservado 4 mesas para 15 pessoas\n",
            "Ainda restam 1 mesas com 4 lugares.\n",
            "Deseja continuar? (S/N) s\n",
            "Quantidade de pessoas: 4\n",
            "Foi reservado 1 mesas para 4 pessoas\n",
            "Ainda restam 0 mesas com 0 lugares.\n",
            "Deseja continuar? (S/N) n\n",
            "Tchau!\n"
          ]
        }
      ]
    },
    {
      "cell_type": "code",
      "source": [
        "#2 Desenvolva um algoritmo que auxilie na gestão de estoque de uma loja. O programa deve permitir que o usuário insira o nome e a quantidade de diferentes produtos.\n",
        "# Se a quantidade de um produto for inferior a 5 unidades, o sistema deve alertar que o estoque está baixo e sugerir a reposição. O processo deve continuar até que o usuário decida encerrar.​\n",
        "\n",
        "estoque = {}\n",
        "while True:\n",
        "  produto = input('Digite o nome do produto: ')\n",
        "  quantidade = int(input('Digite a quantidade: '))\n",
        "  estoque[produto] = quantidade\n",
        "  opc = input('Deseja continuar? (S/N) ')\n",
        "  if quantidade >= 5:\n",
        "     print(f'Estoque baixo de {produto}!')\n",
        "  if opc.upper() == 'N':\n",
        "    print(estoque)\n",
        "    print('Tchau!')\n",
        "    break\n",
        "\n"
      ],
      "metadata": {
        "id": "XjALuK81rK87",
        "colab": {
          "base_uri": "https://localhost:8080/"
        },
        "outputId": "ed0a0bb8-2fd6-4c5f-a2d2-60d53a7a554a"
      },
      "execution_count": null,
      "outputs": [
        {
          "output_type": "stream",
          "name": "stdout",
          "text": [
            "Digite o nome do produto: maça\n",
            "Digite a quantidade: 5\n",
            "Deseja continuar? (S/N) s\n",
            "Estoque baixo de maça!\n",
            "Digite o nome do produto: banana\n",
            "Digite a quantidade: 4\n",
            "Deseja continuar? (S/N) n\n",
            "{'maça': 5, 'banana': 4}\n",
            "Tchau!\n"
          ]
        }
      ]
    },
    {
      "cell_type": "code",
      "source": [
        "#3 Elabore um algoritmo que simule um quiz de perguntas e respostas. O programa deve apresentar uma série de perguntas ao usuário, oferecer opções de resposta e verificar se a resposta fornecida está correta. Ao final, o sistema deve exibir a pontuação total do usuário e fornecer um feedback baseado no desempenho.​\n"
      ],
      "metadata": {
        "id": "Q1LUP7iirLJ0"
      },
      "execution_count": null,
      "outputs": []
    },
    {
      "cell_type": "code",
      "source": [
        "\n",
        "#4 Crie um algoritmo que simule um sistema de controle de acesso a um edifício. O programa deve solicitar ao usuário um código de acesso e verificar se ele é válido. Caso contrário, deve permitir novas tentativas até que o número máximo de 3 tentativas seja atingido. Se o acesso for concedido, uma mensagem de boas-vindas deve ser exibida; caso contrário, uma mensagem de bloqueio deve ser apresentada.​\n"
      ],
      "metadata": {
        "id": "t30c29EfrPDb"
      },
      "execution_count": null,
      "outputs": []
    },
    {
      "cell_type": "code",
      "source": [
        "#5 Desenvolva um algoritmo que ajude no planejamento de uma viagem de carro. O programa deve solicitar a distância total a ser percorrida, a capacidade do tanque de combustível do veículo e o consumo médio de combustível (km/l). Com base nessas informações, o sistema deve calcular quantas paradas para reabastecimento serão necessárias, assumindo que o motorista sempre reabastece o tanque completamente.​\n",
        "\n"
      ],
      "metadata": {
        "id": "AJqaAnr8rQVD"
      },
      "execution_count": null,
      "outputs": []
    },
    {
      "cell_type": "code",
      "source": [
        "#6 Elabore um algoritmo que simule um sistema de avaliação de filmes. O programa deve permitir que o usuário insira o título de vários filmes e uma nota de 0 a 10 para cada um. Após o usuário finalizar as entradas, o sistema deve exibir a média das notas atribuídas e listar os filmes que receberam nota superior a 8, destacando-os como altamente recomendados.​\n",
        "\n"
      ],
      "metadata": {
        "id": "3HifqpznrLSL"
      },
      "execution_count": null,
      "outputs": []
    },
    {
      "cell_type": "code",
      "source": [
        "#7 Crie um algoritmo que simule um sistema de monitoramento de temperatura ambiente. O programa deve solicitar ao usuário que insira a temperatura registrada a cada hora durante um período de 24 horas. Ao final, o sistema deve calcular a temperatura média do dia, identificar a temperatura mais alta e a mais baixa registradas, e alertar se em algum momento a temperatura ultrapassou 30°C ou ficou abaixo de 15°C.​\n"
      ],
      "metadata": {
        "id": "H365uRXarLaD"
      },
      "execution_count": null,
      "outputs": []
    },
    {
      "cell_type": "code",
      "source": [
        "#8 Desenvolva um algoritmo que auxilie na organização de uma biblioteca pessoal. O programa deve permitir que o usuário insira o título e o autor de diversos livros. Após a inserção, o sistema deve oferecer a opção de buscar por livros de um autor específico e listar todos os títulos correspondentes. O processo deve continuar até que o usuário decida encerrar.​\n"
      ],
      "metadata": {
        "id": "HzbkD8DhrLhr"
      },
      "execution_count": null,
      "outputs": []
    },
    {
      "cell_type": "code",
      "source": [
        "#9 Elabore um algoritmo que simule um sistema de gerenciamento de tarefas domésticas. O programa deve permitir que o usuário insira diferentes tarefas e atribua um nível de prioridade a cada uma (alto, médio ou baixo). O sistema deve então exibir as tarefas organizadas por ordem de prioridade, começando pelas de alta prioridade, e permitir que o usuário marque tarefas como concluídas.​\n"
      ],
      "metadata": {
        "id": "jWHWe5torLob"
      },
      "execution_count": null,
      "outputs": []
    },
    {
      "cell_type": "code",
      "source": [
        "#10 Crie um algoritmo que simule um sistema de acompanhamento de hábitos saudáveis. O programa deve permitir que o usuário registre diariamente a quantidade de copos de água ingeridos e o número de minutos dedicados a atividades físicas. Ao final de uma semana, o sistema deve calcular a média diária de consumo de água e de exercícios, compará-las com as recomendações de saúde (por exemplo, 8 copos de água e 30 minutos de exercício por dia), e fornecer um feedback sobre o desempenho do usuário."
      ],
      "metadata": {
        "id": "J44XlTNurLvE"
      },
      "execution_count": null,
      "outputs": []
    }
  ]
}