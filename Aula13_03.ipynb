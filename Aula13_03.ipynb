{
  "cells": [
    {
      "cell_type": "markdown",
      "metadata": {
        "id": "view-in-github",
        "colab_type": "text"
      },
      "source": [
        "<a href=\"https://colab.research.google.com/github/JesseJarvin/ALGESTDADOS_20251/blob/main/Aula13_03.ipynb\" target=\"_parent\"><img src=\"https://colab.research.google.com/assets/colab-badge.svg\" alt=\"Open In Colab\"/></a>"
      ]
    },
    {
      "cell_type": "code",
      "source": [
        "#Exercícios de Sala de Aula - 13-03\n",
        "\n",
        "# 1. Peça dois números ao usuário e exiba a soma.\n",
        "# 2. Solicite o primeiro e o último nome do usuário e exiba o nome completo.\n",
        "# 3. Peça uma palavra e um número ao usuário e exiba a palavra repetida esse número de vezes.\n",
        "# 4. Solicite um texto e exiba-o em letras maiúsculas.\n",
        "# 5. Peça uma palavra e exiba quantos caracteres ela tem.\n",
        "# 6. Mostre a data e a hora atuais.\n",
        "# 7. Solicite o ano de nascimento do usuário e calcule a idade aproximada.\n",
        "# 8. Peça três números ao usuário e exiba a média aritmética.\n",
        "# 9. Solicite a data de nascimento do usuário no formato AAAA-MM-DD e calcule aproximadamente quantos dias ele já viveu.\n",
        "# 10. Solicite uma data no formato AAAA-MM-DD e exiba-a no formato DD/MM/AAAA.\n",
        "# 11. Solicite o raio de um círculo e calcule sua área.\n",
        "# 12. Solicite o peso e a altura da pessoa e calcule o IMC.\n",
        "# 13. Peça a altura e as bases de um trapézio e calcule a sua área.\n",
        "# 14. Solicite uma temperatura em Celsius e converta-a para Fahrenheit.\n",
        "# 15. Peça um número e exiba o fatorial dele."
      ],
      "metadata": {
        "id": "sHq4IAZMQvE4"
      },
      "execution_count": null,
      "outputs": []
    },
    {
      "cell_type": "code",
      "source": [
        "# 1. Peça dois números ao usuário e exiba a soma.\n",
        "num1 = int(input('Digite um primeiro número'))\n",
        "num2 = int(input('Digite um segundo número'))\n",
        "resultado = num1 + num2\n",
        "print(f'A soma é {resultado}.')"
      ],
      "metadata": {
        "colab": {
          "base_uri": "https://localhost:8080/"
        },
        "id": "PjmETeLnSe8o",
        "outputId": "4f86c623-ecee-4545-805f-638b731bfbc6"
      },
      "execution_count": null,
      "outputs": [
        {
          "output_type": "stream",
          "name": "stdout",
          "text": [
            "Digite um primeiro número10\n",
            "Digite um segundo número15\n",
            "A soma é 25.\n"
          ]
        }
      ]
    },
    {
      "cell_type": "code",
      "source": [
        "# 2. Solicite o primeiro e o último nome do usuário e exiba o nome completo.\n",
        "nome1 = input('Digite seu primeiro nome: ')\n",
        "nome2 = input('Digite seu último nome: ')\n",
        "Nome = (nome1 + ' ' + nome2)\n",
        "print(f'Mr. {Nome}.')"
      ],
      "metadata": {
        "colab": {
          "base_uri": "https://localhost:8080/"
        },
        "id": "1_YrWIF5TtIB",
        "outputId": "1ce46d18-9f75-400b-deee-f7ef5997e8d6"
      },
      "execution_count": null,
      "outputs": [
        {
          "output_type": "stream",
          "name": "stdout",
          "text": [
            "Digite seu primeiro nome: Jesse\n",
            "Digite seu último nome: Nucum\n",
            "Mr. Jesse Nucum.\n"
          ]
        }
      ]
    },
    {
      "cell_type": "code",
      "source": [
        "# 3. Peça uma palavra e um número ao usuário e exiba a palavra repetida esse número de vezes.\n",
        "palavra = input('Digite uma palavra: ')\n",
        "numero = int(input('Digite um número: '))\n",
        "print((palavra + '\\n') * numero)\n"
      ],
      "metadata": {
        "colab": {
          "base_uri": "https://localhost:8080/"
        },
        "id": "hDANgXblT_gz",
        "outputId": "15f57f84-cc02-4c4a-e904-54d50c09374c"
      },
      "execution_count": null,
      "outputs": [
        {
          "output_type": "stream",
          "name": "stdout",
          "text": [
            "Digite uma palavra: Flamengo\n",
            "Digite um número: 10\n",
            "Flamengo\n",
            "Flamengo\n",
            "Flamengo\n",
            "Flamengo\n",
            "Flamengo\n",
            "Flamengo\n",
            "Flamengo\n",
            "Flamengo\n",
            "Flamengo\n",
            "Flamengo\n",
            "\n"
          ]
        }
      ]
    },
    {
      "cell_type": "code",
      "source": [
        "# 4. Solicite um texto e exiba-o em letras maiúsculas.\n",
        "texto = input('Digite um texto: ')\n",
        "print(texto.upper())"
      ],
      "metadata": {
        "colab": {
          "base_uri": "https://localhost:8080/"
        },
        "id": "wHsTXEP0WBSR",
        "outputId": "90e8e703-06f1-489c-c083-a298433bcc4f"
      },
      "execution_count": null,
      "outputs": [
        {
          "output_type": "stream",
          "name": "stdout",
          "text": [
            "Digite um texto: Uma vez Flamengo Sempre Flamengo Flamengo sempre, eu hei de ser É o meu maior prazer vê-lo brilhar Seja na terra, seja no mar Vencer, vencer, vencer! Uma vez Flamengo Flamengo até morrer!\n",
            "UMA VEZ FLAMENGO SEMPRE FLAMENGO FLAMENGO SEMPRE, EU HEI DE SER É O MEU MAIOR PRAZER VÊ-LO BRILHAR SEJA NA TERRA, SEJA NO MAR VENCER, VENCER, VENCER! UMA VEZ FLAMENGO FLAMENGO ATÉ MORRER!\n"
          ]
        }
      ]
    },
    {
      "cell_type": "code",
      "source": [
        "# 5. Peça uma palavra e exiba quantos caracteres ela tem.\n",
        "palavra = input('Digite uma palavra: ')\n",
        "caracteres = len(palavra)\n",
        "print(f'Sua palavra tem {caracteres} caracteres.')"
      ],
      "metadata": {
        "colab": {
          "base_uri": "https://localhost:8080/"
        },
        "id": "f31PnWKuWD_Q",
        "outputId": "4beb8da0-a121-4841-e8fa-5961c08ccf21"
      },
      "execution_count": null,
      "outputs": [
        {
          "output_type": "stream",
          "name": "stdout",
          "text": [
            "Digite uma palavra: Flamengo\n",
            "Sua palavra tem 8 caracteres.\n"
          ]
        }
      ]
    },
    {
      "cell_type": "code",
      "source": [
        "# 6. Mostre a data e a hora atuais.\n",
        "from datetime import datetime\n",
        "import pytz\n",
        "data_hora_atual = datetime.now()\n",
        "fuso_horario = pytz.timezone('America/Sao_Paulo')\n",
        "data_hora_sao_paulo = datetime.now(fuso_horario)\n",
        "print('data e hora de São Paulo:', data_hora_sao_paulo.strftime('%d/%m/%Y %H:%M:%S'))"
      ],
      "metadata": {
        "colab": {
          "base_uri": "https://localhost:8080/"
        },
        "id": "1VE0xKkNWGwI",
        "outputId": "7f4f2a2d-1cd0-4b02-ca6e-5a2a8c87f130"
      },
      "execution_count": null,
      "outputs": [
        {
          "output_type": "stream",
          "name": "stdout",
          "text": [
            "data e hora de São Paulo: 13/03/2025 13:56:55\n"
          ]
        }
      ]
    },
    {
      "cell_type": "code",
      "source": [
        "# 7. Solicite o ano de nascimento do usuário e calcule a idade aproximada.\n",
        "from datetime import datetime\n",
        "ano_nasc = int(input('digite seu ano de nascimento: '))\n",
        "data_atual = datetime.now().year\n",
        "idade_aproximada = data_atual - ano_nasc\n",
        "print(f'Sua idade aproximada é {idade_aproximada}.')"
      ],
      "metadata": {
        "colab": {
          "base_uri": "https://localhost:8080/"
        },
        "id": "Ccc8TzjNWJIg",
        "outputId": "0cd01bc7-94b2-4887-bb24-a0b22ccc0f44"
      },
      "execution_count": null,
      "outputs": [
        {
          "output_type": "stream",
          "name": "stdout",
          "text": [
            "digite seu ano de nascimento: 2005\n",
            "Sua idade aproximada é 20.\n"
          ]
        }
      ]
    },
    {
      "cell_type": "code",
      "source": [
        "# 8. Peça três números ao usuário e exiba a média aritmética.\n",
        "num1 = int(input('Digite um primeiro número: '))\n",
        "num2 = int(input('Digite um segundo número: '))\n",
        "num3 = int(input('Digite um terceiro número: '))\n",
        "media = (num1 + num2 + num3) / 3\n",
        "print(f'Média aritmética é: {media}')"
      ],
      "metadata": {
        "colab": {
          "base_uri": "https://localhost:8080/"
        },
        "id": "EESqJYY8WK3B",
        "outputId": "757b7b46-efbe-4692-940c-976eb495e80c"
      },
      "execution_count": null,
      "outputs": [
        {
          "output_type": "stream",
          "name": "stdout",
          "text": [
            "Digite um primeiro número: 10\n",
            "Digite um segundo número: 15\n",
            "Digite um terceiro número: 50\n",
            "Média aritmética é: 25.0\n"
          ]
        }
      ]
    },
    {
      "cell_type": "code",
      "source": [
        "# 9. Solicite a data de nascimento do usuário no formato AAAA-MM-DD e calcule aproximadamente quantos dias ele já viveu.\n",
        "from datetime import datetime\n",
        "data_nasc = input('Digite sua data de nascimento no formato AAAA-MM-DD: ')\n",
        "data_nasc = datetime.strptime(data_nasc, '%Y-%m-%d')\n",
        "data_atual = datetime.now()\n",
        "dias_vividos = (data_atual - data_nasc).days\n",
        "print(f'Você ja viveu {dias_vividos} dias.')"
      ],
      "metadata": {
        "colab": {
          "base_uri": "https://localhost:8080/"
        },
        "id": "gJJVSiXgWNFp",
        "outputId": "186b69a1-7ca1-4147-92ba-522f74285b99"
      },
      "execution_count": null,
      "outputs": [
        {
          "output_type": "stream",
          "name": "stdout",
          "text": [
            "Digite sua data de nascimento no formato AAAA-MM-DD: 2005-06-27\n",
            "Você ja viveu 7199 dias.\n"
          ]
        }
      ]
    },
    {
      "cell_type": "code",
      "source": [
        "# 10. Solicite uma data no formato AAAA-MM-DD e exiba-a no formato DD/MM/AAAA.\n",
        "from datetime import datetime\n",
        "data = input('Digite uma data no formato AAAA-MM-DD: ')\n",
        "data = datetime.strptime(data, '%Y-%m-%d')\n",
        "data_formatada = data.strftime('%d/%m/%Y')\n",
        "print(f'Data formatada: {data_formatada}')"
      ],
      "metadata": {
        "colab": {
          "base_uri": "https://localhost:8080/"
        },
        "id": "w0RRQtsrWPQJ",
        "outputId": "1fa40e4a-39f9-4994-f184-7d9f75d52966"
      },
      "execution_count": 6,
      "outputs": [
        {
          "output_type": "stream",
          "name": "stdout",
          "text": [
            "Digite uma data no formato AAAA-MM-DD: 2024-04-26\n",
            "Data formatada: 26/04/2024\n"
          ]
        }
      ]
    },
    {
      "cell_type": "code",
      "source": [
        "# 11. Solicite o raio de um círculo e calcule sua área.\n",
        "import math\n",
        "raio = float(input('Digite raio de um círculo (cm): '))\n",
        "area = math.pi*(pow(raio, 2))\n",
        "print(f' Área do círculo é: {area:.2f} cm')"
      ],
      "metadata": {
        "colab": {
          "base_uri": "https://localhost:8080/"
        },
        "id": "GymTtqrAzsZr",
        "outputId": "fdd08a2a-afbe-42a1-8a75-3fdead588951"
      },
      "execution_count": 16,
      "outputs": [
        {
          "output_type": "stream",
          "name": "stdout",
          "text": [
            "Digite raio de um círculo (cm): 5\n",
            " Área do círculo é: 78.54 cm\n"
          ]
        }
      ]
    },
    {
      "cell_type": "code",
      "source": [
        "# 12. Solicite o peso e a altura da pessoa e calcule o IMC.\n",
        "peso = float(input('Digite seu peso'))\n",
        "altura = float(input('Digite sua altura'))\n",
        "imc = peso / pow(altura, 2)\n",
        "print(f'Seu IMC é: {imc}')"
      ],
      "metadata": {
        "colab": {
          "base_uri": "https://localhost:8080/"
        },
        "id": "mAfUJH_-zvP5",
        "outputId": "c199bce1-2426-4bd4-ffad-da3098413733"
      },
      "execution_count": 15,
      "outputs": [
        {
          "output_type": "stream",
          "name": "stdout",
          "text": [
            "Digite seu peso65\n",
            "Digite sua altura1.72\n",
            "Seu IMC é: 21.971335857220122\n"
          ]
        }
      ]
    },
    {
      "cell_type": "code",
      "source": [
        "# 13. Peça a altura e as bases de um trapézio e calcule a sua área.\n",
        "Base = float(input('Digite a maior base do trapézio (cm)'))\n",
        "base = float(input('Digite a menor base do trapézio (cm)'))\n",
        "altura = float(input('Digite a altura do trapézio (cm)'))\n",
        "area = ((Base + base)*altura)/2\n",
        "print(f'Área do trapézio é: {area:.2f} cm²')"
      ],
      "metadata": {
        "colab": {
          "base_uri": "https://localhost:8080/"
        },
        "id": "Myu_mApQzwrx",
        "outputId": "5e56c2b2-8a40-4726-830f-bc9329057319"
      },
      "execution_count": 17,
      "outputs": [
        {
          "output_type": "stream",
          "name": "stdout",
          "text": [
            "Digite a maior base do trapézio (cm)10\n",
            "Digite a menor base do trapézio (cm)5\n",
            "Digite a altura do trapézio (cm)5\n",
            "Área do trapézio é: 37.50 cm²\n"
          ]
        }
      ]
    },
    {
      "cell_type": "code",
      "source": [
        "# 14. Solicite uma temperatura em Celsius e converta-a para Fahrenheit.\n",
        "temperatura = float(input('Digite a tempuratura (°C)'))\n",
        "Fahrenheit = ((9/5)*temperatura) + 32\n",
        "print(f'A tempuratura é {Fahrenheit} °F')"
      ],
      "metadata": {
        "colab": {
          "base_uri": "https://localhost:8080/"
        },
        "id": "rH36K4xFzxvZ",
        "outputId": "4f72ca55-ad48-4e87-e855-8c52c5312fd4"
      },
      "execution_count": 26,
      "outputs": [
        {
          "output_type": "stream",
          "name": "stdout",
          "text": [
            "Digite a tempuratura (°C)25\n",
            "A tempuratura é 77.0 °F\n"
          ]
        }
      ]
    },
    {
      "cell_type": "code",
      "source": [
        "# 15. Peça um número e exiba o fatorial dele.\n",
        "numero = int(input('Digite um número: '))\n",
        "fatorial = 1\n",
        "for i in range(1, numero + 1):\n",
        "    fatorial *= i\n",
        "print(f'O fatorial de {numero} é {fatorial}')"
      ],
      "metadata": {
        "colab": {
          "base_uri": "https://localhost:8080/"
        },
        "id": "AhRLljBSApXk",
        "outputId": "de5d7ba1-d3fd-4950-f6d5-096f68a703ee"
      },
      "execution_count": 25,
      "outputs": [
        {
          "output_type": "stream",
          "name": "stdout",
          "text": [
            "Digite um número: 5\n",
            "O fatorial de 5 é 120\n"
          ]
        }
      ]
    }
  ],
  "metadata": {
    "colab": {
      "provenance": [],
      "include_colab_link": true
    },
    "kernelspec": {
      "display_name": "Python 3",
      "name": "python3"
    }
  },
  "nbformat": 4,
  "nbformat_minor": 0
}