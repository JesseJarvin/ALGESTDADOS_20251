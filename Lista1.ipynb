{
  "nbformat": 4,
  "nbformat_minor": 0,
  "metadata": {
    "colab": {
      "provenance": [],
      "authorship_tag": "ABX9TyNFnQ0pTprhQNIZcGWV2xBl",
      "include_colab_link": true
    },
    "kernelspec": {
      "name": "python3",
      "display_name": "Python 3"
    },
    "language_info": {
      "name": "python"
    }
  },
  "cells": [
    {
      "cell_type": "markdown",
      "metadata": {
        "id": "view-in-github",
        "colab_type": "text"
      },
      "source": [
        "<a href=\"https://colab.research.google.com/github/JesseJarvin/ALGESTDADOS_20251/blob/main/Lista1.ipynb\" target=\"_parent\"><img src=\"https://colab.research.google.com/assets/colab-badge.svg\" alt=\"Open In Colab\"/></a>"
      ]
    },
    {
      "cell_type": "markdown",
      "source": [
        "Atividade Avaliativa I\n",
        " - Jesse Jarvin Gruenwald Nucum\n",
        "20251beciv0040"
      ],
      "metadata": {
        "id": "1ZxuUasRCgA4"
      }
    },
    {
      "cell_type": "code",
      "execution_count": 3,
      "metadata": {
        "colab": {
          "base_uri": "https://localhost:8080/"
        },
        "id": "TyXs_UqW4sjP",
        "outputId": "77b31a13-fa04-442f-b683-c3899ae996da"
      },
      "outputs": [
        {
          "output_type": "stream",
          "name": "stdout",
          "text": [
            "Digite um número: 60\n",
            "60.0 é maior que 50!\n"
          ]
        }
      ],
      "source": [
        "# 1. Peça um número ao usuário e verifique se ele é menor que 50. Informe o resultado com uma mensagem.\n",
        "\n",
        "num = float(input('Digite um número: '))\n",
        "\n",
        "if num < 50:\n",
        "  print(f'{num} é menor que 50!')\n",
        "elif num == 50:\n",
        "  print(f'{num} é igual a 50!')\n",
        "else:\n",
        "  print(f'{num} é maior que 50!')"
      ]
    },
    {
      "cell_type": "code",
      "source": [
        "# 2. Solicite um número ao usuário e informe se ele é divisível por 7. Para isso, utilize uma verificação simples.\n",
        "\n",
        "num = int(input('Digite um número: '))\n",
        "\n",
        "if num%7 == 0:\n",
        "  print('Seu número é divisível por 7!')\n",
        "else:\n",
        "  print('Seu número não é divisível por 7!')"
      ],
      "metadata": {
        "colab": {
          "base_uri": "https://localhost:8080/"
        },
        "id": "XZ-iH2gB57Y4",
        "outputId": "1c0ff454-7ffb-4c8f-a7aa-585b080a1f7a"
      },
      "execution_count": 6,
      "outputs": [
        {
          "output_type": "stream",
          "name": "stdout",
          "text": [
            "Digite um número: 77\n",
            "Seu número é divisível por 7!\n"
          ]
        }
      ]
    },
    {
      "cell_type": "code",
      "source": [
        "# 3. Peça um nome ao usuário e verifique se ele contém a letra \"o\". Exiba uma mensagem informando o resultado.\n",
        "\n",
        "nome = input('Digite seu nome: ')\n",
        "nome = nome.lower()\n",
        "\n",
        "if 'o' in nome:\n",
        "  print(\"Seu nome contém a letra 'o'!\")\n",
        "else:\n",
        "  print(\"Seu nome não contém a letra 'o'!\")"
      ],
      "metadata": {
        "colab": {
          "base_uri": "https://localhost:8080/"
        },
        "id": "3de_x01j6V4A",
        "outputId": "fe74cb26-351f-4476-f777-181ddcf835cd"
      },
      "execution_count": 12,
      "outputs": [
        {
          "output_type": "stream",
          "name": "stdout",
          "text": [
            "Digite seu nome: Jesse\n",
            "Seu nome não contém a letra 'o'!\n"
          ]
        }
      ]
    },
    {
      "cell_type": "code",
      "source": [
        "# 4. Solicite um número inteiro e verifique se ele termina em 0. Utilize operações matemáticas para essa verificação.\n",
        "\n",
        "num = int(input('Digite um número: '))\n",
        "\n",
        "if num%2 == 0 and num%5 == 0:\n",
        "  print('Seu número termina em zero!')\n",
        "else:\n",
        "  print('Seu número não termina em zero!')"
      ],
      "metadata": {
        "colab": {
          "base_uri": "https://localhost:8080/"
        },
        "id": "zgexo-8k7Ry7",
        "outputId": "4d1e11cb-03aa-41d0-8505-a6c8f6a8e547"
      },
      "execution_count": 15,
      "outputs": [
        {
          "output_type": "stream",
          "name": "stdout",
          "text": [
            "Digite um número!100\n",
            "Seu número termina em zero!\n"
          ]
        }
      ]
    },
    {
      "cell_type": "code",
      "source": [
        "# 5. Peça a idade de uma pessoa e informe se ela tem idade suficiente para votar (considerando 16 anos como idade mínima).\n",
        "\n",
        "idade = int(input('Digite a sua idade: '))\n",
        "\n",
        "if idade >= 16:\n",
        "  print('Você tem idade para votar!')\n",
        "else:\n",
        "  print('Você não tem idade para votar!')"
      ],
      "metadata": {
        "colab": {
          "base_uri": "https://localhost:8080/"
        },
        "id": "mudIUVTO7y0h",
        "outputId": "7d870021-641d-4e31-823b-4357227c5fe9"
      },
      "execution_count": 20,
      "outputs": [
        {
          "output_type": "stream",
          "name": "stdout",
          "text": [
            "Digite a sua idade: 16\n",
            "Você tem idade para votar!\n"
          ]
        }
      ]
    },
    {
      "cell_type": "code",
      "source": [
        "# 6. Solicite ao usuário que digite um único caractere e informe se ele é uma vogal (a, e, i, o, u).\n",
        "\n",
        "carac = input('Digite um único caracter qualquer: ')\n",
        "carac = carac.lower()\n",
        "vogais = ['a', 'e', 'i', 'o', 'u']\n",
        "\n",
        "if carac in vogais:\n",
        " print('Seu caracter é uma vogal!')\n",
        "else:\n",
        " print('Seu caracter não é uma vogal!')"
      ],
      "metadata": {
        "colab": {
          "base_uri": "https://localhost:8080/"
        },
        "id": "ZEIQm6fD8U20",
        "outputId": "40a35147-fd73-4f8d-b978-e9295944d239"
      },
      "execution_count": 36,
      "outputs": [
        {
          "output_type": "stream",
          "name": "stdout",
          "text": [
            "Digite um único caracter qualquer: h\n",
            "Seu caracter não é uma vogal!\n"
          ]
        }
      ]
    },
    {
      "cell_type": "code",
      "source": [
        "# 7. Peça a temperatura atual em graus Celsius e classifique-a como \"abaixo de zero\", \"entre 0°C e 20°C\" ou \"acima de 20°C\".\n",
        "\n",
        "temp = float(input('Digite a tempuratura em °C: '))\n",
        "\n",
        "if temp < 0:\n",
        "  print('Tempuratura abaixo de zero!')\n",
        "elif temp > 20:\n",
        " print('Tempuratura acima de 20°C')\n",
        "else:\n",
        "  print('Tempuratura entre 0°C e 20°C!')"
      ],
      "metadata": {
        "colab": {
          "base_uri": "https://localhost:8080/"
        },
        "id": "YweQWLdy-nCM",
        "outputId": "32a86295-0121-4c48-f8d0-71640beac5ae"
      },
      "execution_count": 47,
      "outputs": [
        {
          "output_type": "stream",
          "name": "stdout",
          "text": [
            "Digite a tempuratura em °C: 50\n",
            "Tempuratura acima de 20°C\n"
          ]
        }
      ]
    },
    {
      "cell_type": "code",
      "source": [
        "# 8. Solicite um número e informe se ele é maior que 1000. Exiba uma mensagem apropriada.\n",
        "\n",
        "num = float(input('Digite um número: '))\n",
        "\n",
        "if num > 1000:\n",
        "  print(f\"{num} é maior que 1000!\")\n",
        "elif num == 1000:\n",
        "  print(f\"{num} é igual a 1000!\")\n",
        "else:\n",
        "  print(f\"{num} é menor que 1000!\")"
      ],
      "metadata": {
        "colab": {
          "base_uri": "https://localhost:8080/"
        },
        "id": "wwEemiKiAb2B",
        "outputId": "f29d21ef-6ae0-4e79-a02e-d1e6c5b75a4f"
      },
      "execution_count": 50,
      "outputs": [
        {
          "output_type": "stream",
          "name": "stdout",
          "text": [
            "Digite um número: 1100\n",
            "1100.0 é maior que 1000!\n"
          ]
        }
      ]
    },
    {
      "cell_type": "code",
      "source": [
        "# 9. Peça um valor em reais e informe se ele é múltiplo de 50, ou seja, se o valor pode ser pago apenas com notas de R$50,00.\n",
        "\n",
        "valor = float(input('Digite o valor da compra: '))\n",
        "\n",
        "if valor%50 == 0:\n",
        "  print('A compra pode ser paga apenas com notas de R$50,00!')\n",
        "else:\n",
        "  print('A compra não pode ser paga apenas com notas de R$50,00!')"
      ],
      "metadata": {
        "colab": {
          "base_uri": "https://localhost:8080/"
        },
        "id": "KMcgNrCVBdPp",
        "outputId": "e01daec4-882d-4330-e1d7-a1c636f127d7"
      },
      "execution_count": 55,
      "outputs": [
        {
          "output_type": "stream",
          "name": "stdout",
          "text": [
            "Digite o valor da compra: 100\n",
            "A compra pode ser paga apenas com notas de R$50,00!\n"
          ]
        }
      ]
    },
    {
      "cell_type": "code",
      "source": [
        "# 10. Solicite um número ao usuário e verifique se ele está no intervalo entre 100 e 200 (inclusive). Informe o resultado.\n",
        "\n",
        "num = float(input('Digite um número: '))\n",
        "\n",
        "if 100 <= num <= 200:\n",
        "  print(f'{num} pertence ao intervalo [100, 200]!')\n",
        "else:\n",
        "  print(f'{num} não pertence ao intervalo [100, 200]!')"
      ],
      "metadata": {
        "colab": {
          "base_uri": "https://localhost:8080/"
        },
        "id": "4G3Vau2ACL4p",
        "outputId": "81ca2049-39bf-415a-b8f2-4e5a77ac6c94"
      },
      "execution_count": 58,
      "outputs": [
        {
          "output_type": "stream",
          "name": "stdout",
          "text": [
            "Digite um número: 150\n",
            "150.0 pertence ao intervalo [100, 200]!\n"
          ]
        }
      ]
    },
    {
      "cell_type": "code",
      "source": [
        "# 11. Peça a altura de uma árvore em metros e informe se ela tem menos de 5 metros de altura.\n",
        "\n",
        "alt = float(input('Digite a altura da árvore em metros: '))\n",
        "\n",
        "if alt > 5:\n",
        "  print('A árvore tem mais de 5 metros!')\n",
        "elif alt == 5:\n",
        "  print('A árvore tem 5 metros!')\n",
        "else:\n",
        "  print('A árvore tem menos de 5 metros!')"
      ],
      "metadata": {
        "colab": {
          "base_uri": "https://localhost:8080/"
        },
        "id": "FuglwBX0EckZ",
        "outputId": "96c9e274-b7cf-48e8-847a-8a3a72958196"
      },
      "execution_count": 61,
      "outputs": [
        {
          "output_type": "stream",
          "name": "stdout",
          "text": [
            "Digite a altura da árvore em metros: 4\n",
            "A árvore tem menos de 5 metros!\n"
          ]
        }
      ]
    },
    {
      "cell_type": "code",
      "source": [
        "# 12. Solicite a temperatura de um líquido em graus Celsius e informe seu estado físico: \"congelado\" (≤0°C), \"líquido\" (0°C a 100°C) ou \"ebulição\" (>100°C).\n",
        "\n",
        "temp = float(input('DIgite a temperatura do elemento em °C: '))\n",
        "\n",
        "if temp <= 0:\n",
        "  print('O elemento está no estado sólido!')\n",
        "elif temp > 100:\n",
        "  print('O elemento está no estado gasoso!')\n",
        "else:\n",
        "  print('O elemento está no estado líquido!')"
      ],
      "metadata": {
        "colab": {
          "base_uri": "https://localhost:8080/"
        },
        "id": "6Y1nxzLFGF98",
        "outputId": "e2091fa6-de2b-477d-e886-f0b8ac9cdddc"
      },
      "execution_count": 65,
      "outputs": [
        {
          "output_type": "stream",
          "name": "stdout",
          "text": [
            "DIgite a temperatura do elemento em °C: 150\n",
            "O elemento está no estado gasoso!\n"
          ]
        }
      ]
    },
    {
      "cell_type": "code",
      "source": [
        "# 13. Peça um número inteiro e verifique se ele é múltiplo de 10. Mostre uma mensagem indicando o resultado.\n",
        "\n",
        "num = int(input('Digite um número: '))\n",
        "\n",
        "if num%10 == 0:\n",
        "  print(f'{num} é divisível por 10!')\n",
        "else:\n",
        "  print(f'{num} não é divisível por 10!')"
      ],
      "metadata": {
        "colab": {
          "base_uri": "https://localhost:8080/"
        },
        "id": "vnRrCqtBHanJ",
        "outputId": "dae007f9-58ab-4dfb-d388-3ab83cf0c31b"
      },
      "execution_count": 68,
      "outputs": [
        {
          "output_type": "stream",
          "name": "stdout",
          "text": [
            "Digite um número: 55\n",
            "55 não é divisível por 10!\n"
          ]
        }
      ]
    },
    {
      "cell_type": "code",
      "source": [
        "# 14. Solicite a nota final de dois alunos e exiba qual deles teve a maior pontuação.\n",
        "\n",
        "nota1 = float(input('Digite a nota final: '))\n",
        "nota2 = float(input('Digite a nota final: '))\n",
        "\n",
        "if nota1 > nota2:\n",
        "  print('A nota do primeiro aluno é maior!')\n",
        "elif nota1 < nota2:\n",
        "  print('A nota do segundo aluno é maior!')\n",
        "else:\n",
        "  print('A nota dos dois alunos são iguais!')"
      ],
      "metadata": {
        "colab": {
          "base_uri": "https://localhost:8080/"
        },
        "id": "MMlW2XsbHyv7",
        "outputId": "f7b7ca8e-2d8d-42b0-8047-c1736e0fb8ee"
      },
      "execution_count": 72,
      "outputs": [
        {
          "output_type": "stream",
          "name": "stdout",
          "text": [
            "Digite a nota final: 10.5\n",
            "Digite a nota final: 10.5\n",
            "A nota dos dois alunos são iguais!\n"
          ]
        }
      ]
    },
    {
      "cell_type": "code",
      "source": [
        "# 15. Peça o nome de uma fruta e verifique se ela contém a letra \"e\". Exiba o resultado.\n",
        "\n",
        "fruta = input('Digite o nome de uma fruta: ')\n",
        "fruta = fruta.lower()\n",
        "\n",
        "if 'e' in fruta:\n",
        "  print(\"Sua fruta contém a letra 'e'!\")\n",
        "else:\n",
        "  print(\"Sua fruta não contém a letra 'e'!\")"
      ],
      "metadata": {
        "colab": {
          "base_uri": "https://localhost:8080/"
        },
        "id": "5dvwlRKxIps-",
        "outputId": "1d4afa96-599f-48f1-b726-3279fd922129"
      },
      "execution_count": 79,
      "outputs": [
        {
          "output_type": "stream",
          "name": "stdout",
          "text": [
            "Digite o nome de uma fruta: abacate\n",
            "Sua fruta contém a letra 'e'!\n"
          ]
        }
      ]
    },
    {
      "cell_type": "code",
      "source": [
        "# 16. Peça a velocidade de um carro em km/h e informe se ela ultrapassa o limite de 80 km/h.\n",
        "\n",
        "veloc = float(input('Digite a velocidade do carro em km/h: '))\n",
        "\n",
        "if veloc > 80:\n",
        "  print('O carro ultrapassou o limite de 80 km/h!')\n",
        "elif veloc == 80:\n",
        "  print('O carro está no limite de 80 km/h!')\n",
        "else:\n",
        "  print('O carro não ultrapassou o limite de 80 km/h!')"
      ],
      "metadata": {
        "colab": {
          "base_uri": "https://localhost:8080/"
        },
        "id": "9MEGj5pzK6RK",
        "outputId": "a443723b-6009-4b81-8464-8ee61cbfd829"
      },
      "execution_count": 82,
      "outputs": [
        {
          "output_type": "stream",
          "name": "stdout",
          "text": [
            "Digite a velocidade do carro em km/h: 88\n",
            "O carro ultrapassou o limite de 80 km/h!\n"
          ]
        }
      ]
    },
    {
      "cell_type": "code",
      "source": [
        "# 17. Solicite um número ao usuário e informe se ele é divisível por 4 ou por 5. Exiba uma mensagem adequada.\n",
        "\n"
      ],
      "metadata": {
        "id": "D_dLBwhULywZ"
      },
      "execution_count": null,
      "outputs": []
    }
  ]
}