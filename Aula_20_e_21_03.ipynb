{
  "nbformat": 4,
  "nbformat_minor": 0,
  "metadata": {
    "colab": {
      "provenance": [],
      "authorship_tag": "ABX9TyOAf/9Qyy01Vdxolr84ZX5i",
      "include_colab_link": true
    },
    "kernelspec": {
      "name": "python3",
      "display_name": "Python 3"
    },
    "language_info": {
      "name": "python"
    }
  },
  "cells": [
    {
      "cell_type": "markdown",
      "metadata": {
        "id": "view-in-github",
        "colab_type": "text"
      },
      "source": [
        "<a href=\"https://colab.research.google.com/github/JesseJarvin/ALGESTDADOS_20251/blob/main/Aula_20_e_21_03.ipynb\" target=\"_parent\"><img src=\"https://colab.research.google.com/assets/colab-badge.svg\" alt=\"Open In Colab\"/></a>"
      ]
    },
    {
      "cell_type": "code",
      "source": [
        "# 1. Peça um número e informe se ele é maior que 10. Crie um algoritmo em Python para fazer essa verificação.\n",
        "\n",
        "num1 = int(input('Digite um número: '))\n",
        "\n",
        "if num1 > 10:\n",
        " print(f'{num1} é maior que 10!')\n",
        "elif num1 == 10:\n",
        " print(f'{num1} é igual a 10!')\n",
        "else:\n",
        " print(f'{num1} é menor que 10!')\n"
      ],
      "metadata": {
        "colab": {
          "base_uri": "https://localhost:8080/"
        },
        "id": "BELoQ1ycShx0",
        "outputId": "e5d0f7d3-3952-4235-a43f-fd998f574308"
      },
      "execution_count": 22,
      "outputs": [
        {
          "output_type": "stream",
          "name": "stdout",
          "text": [
            "Digite um número: 15\n",
            "15 é maior que 10!\n"
          ]
        }
      ]
    },
    {
      "cell_type": "code",
      "source": [
        "# 2. Peça um número inteiro e informe se ele é par. Crie um algoritmo em Python que verifique se o número é divisível por 2.\n",
        "\n",
        "num1 = int(input('Digite um número: '))\n",
        "\n",
        "if num1%2 == 0:\n",
        " print(\"Seu número é par!\")\n",
        "else:\n",
        " print(\"Seu número é ímpar!\")"
      ],
      "metadata": {
        "colab": {
          "base_uri": "https://localhost:8080/"
        },
        "id": "xKxE8HskTobQ",
        "outputId": "299dbf14-1d73-4d16-a65b-239278423d91"
      },
      "execution_count": 36,
      "outputs": [
        {
          "output_type": "stream",
          "name": "stdout",
          "text": [
            "Digite um número: 9\n",
            "Seu número é ímpar!\n"
          ]
        }
      ]
    },
    {
      "cell_type": "code",
      "source": [
        "# 3. Peça um nome e informe se ele contém a letra \"a\". Crie um algoritmo em Python que faça essa verificação.\n",
        "\n",
        "nome = input(\"Digite um nome: \")\n",
        "\n",
        "if 'a' in nome:\n",
        "  print(\"Seu nome contém a letra 'a'!\")\n",
        "else:\n",
        "  print(\"Seu nome não contém a letra 'a'!\")"
      ],
      "metadata": {
        "colab": {
          "base_uri": "https://localhost:8080/"
        },
        "id": "QS8BfB5_ZWfV",
        "outputId": "97e88b35-2978-4929-e37b-88004c90789c"
      },
      "execution_count": 39,
      "outputs": [
        {
          "output_type": "stream",
          "name": "stdout",
          "text": [
            "Digite um nome: Jesse\n",
            "Seu nome não contém a letra 'a'!\n"
          ]
        }
      ]
    },
    {
      "cell_type": "code",
      "source": [
        "# 4. Peça um número e informe se ele é múltiplo de 5. Crie um algoritmo em Python que verifique se o número é divisível por 5.\n",
        "\n",
        "num = int(input('Digite um número'))\n",
        "\n",
        "if num%5 == 0:\n",
        "  print(f'{num} é divisível por 5!')\n",
        "else:\n",
        "  print(f'{num} não é divisível por 5!')"
      ],
      "metadata": {
        "colab": {
          "base_uri": "https://localhost:8080/"
        },
        "id": "53dRwy2qZyXI",
        "outputId": "692cdc6c-9c55-49ff-cf23-227f126bd074"
      },
      "execution_count": 41,
      "outputs": [
        {
          "output_type": "stream",
          "name": "stdout",
          "text": [
            "Digite um número14\n",
            "14 não é divisível por 5!\n"
          ]
        }
      ]
    },
    {
      "cell_type": "code",
      "source": [
        "# 5. Peça a temperatura atual e informe se está quente (acima de 30°C) ou frio (30°C ou menos). Crie um algoritmo em Python para essa verificação.\n",
        "\n",
        "temp = float(input(\"Digite a temperatura atual: \"))\n",
        "\n",
        "if temp > 30:\n",
        " print('O clima esta quente!')\n",
        "else:\n",
        "  print('O clima esta frio!')"
      ],
      "metadata": {
        "colab": {
          "base_uri": "https://localhost:8080/"
        },
        "id": "RMoETIIOauOa",
        "outputId": "3e5e9d5e-3894-4006-cc4a-aca440ccb43e"
      },
      "execution_count": 47,
      "outputs": [
        {
          "output_type": "stream",
          "name": "stdout",
          "text": [
            "Digite a temperatura atual: 30\n",
            "O clima esta frio!\n"
          ]
        }
      ]
    },
    {
      "cell_type": "code",
      "source": [
        "# 6. Peça ao usuário para digitar \"S\" para continuar ou \"N\" para sair e informe a ação correspondente. Crie um algoritmo em Python que faça essa validação e exiba a mensagem correta.\n",
        "\n",
        "acao = input('Digite \"S\" para continuar e \"N\" para sair!')\n",
        "acao = acao.lower()\n",
        "\n",
        "if 's' in acao:\n",
        "  print('Continuar')\n",
        "elif acao == 'n':\n",
        "  print('Sair')\n",
        "else:\n",
        "  print('Opção inválida!')"
      ],
      "metadata": {
        "colab": {
          "base_uri": "https://localhost:8080/"
        },
        "id": "0cX1rmpzb5Wz",
        "outputId": "0a45de8b-f081-483e-bf0b-160252f3c318"
      },
      "execution_count": 95,
      "outputs": [
        {
          "output_type": "stream",
          "name": "stdout",
          "text": [
            "Digite \"S\" para continuar e \"N\" para sair!h\n",
            "Opção inválida!\n"
          ]
        }
      ]
    },
    {
      "cell_type": "code",
      "source": [
        "# 7. Peça um número e informe se ele é negativo, zero ou positivo. Crie um algoritmo em Python para classificar o número.\n",
        "\n",
        "num1 = int(input('Digite um número: '))\n",
        "\n",
        "if num1 < 0:\n",
        " print(f'{num1} é negativo!')\n",
        "elif num1 == 0:\n",
        " print(f'{num1} é nulo!')\n",
        "else:\n",
        " print(f'{num1} é positivo!')"
      ],
      "metadata": {
        "colab": {
          "base_uri": "https://localhost:8080/"
        },
        "id": "PnTAkcCjWoxj",
        "outputId": "ebdcbe06-1e63-4e3f-f6b0-b11cc25ca1b6"
      },
      "execution_count": 26,
      "outputs": [
        {
          "output_type": "stream",
          "name": "stdout",
          "text": [
            "Digite um número: 2\n",
            "2 é positivo!\n"
          ]
        }
      ]
    },
    {
      "cell_type": "code",
      "source": [
        "# 8. Peça um número de 1 a 7 e informe o dia da semana correspondente. Crie um algoritmo em Python que associe o número ao dia correto.\n",
        "\n",
        "num1 = int(input('Digite um número de 1 a 7!'))\n",
        "dias = ['Domingo', 'Segunda-feira', 'Terça-feira', 'Quarta-feira', 'Quinta-feira', 'Sexta-feira', 'Sábado']\n",
        "dias = dias[num1-1]\n",
        "print(f'o dia da semana é: {dias} ')"
      ],
      "metadata": {
        "colab": {
          "base_uri": "https://localhost:8080/"
        },
        "id": "e6qRe-ntXe3F",
        "outputId": "8573fe18-3dab-4d38-d756-71cafb41fc0a"
      },
      "execution_count": 34,
      "outputs": [
        {
          "output_type": "stream",
          "name": "stdout",
          "text": [
            "Digite um número de 1 a 7!6\n",
            "o dia da semana é: Sexta-feira \n"
          ]
        }
      ]
    },
    {
      "cell_type": "code",
      "source": [
        "# 9. Peça um ano e informe se ele é bissexto. Crie um algoritmo em Python que verifique se o ano é divisível por 4 e não por 100, exceto se também for divisível por 400.\n",
        "\n",
        "ano = int(input(\"Digite um ano AAAA: \"))\n",
        "\n",
        "if ano%4 == 0 and ano%100 != 0:\n",
        " print(f'O {ano} é bissexto')\n",
        "else:\n",
        "  print(f'O {ano} não é bissexto')"
      ],
      "metadata": {
        "colab": {
          "base_uri": "https://localhost:8080/"
        },
        "id": "tn_y9pIzewm3",
        "outputId": "186d33c6-2068-41ea-f996-ca2ee4f572b1"
      },
      "execution_count": 75,
      "outputs": [
        {
          "output_type": "stream",
          "name": "stdout",
          "text": [
            "Digite um ano AAAA: 2025\n",
            "O 2025 não é bissexto\n"
          ]
        }
      ]
    },
    {
      "cell_type": "code",
      "source": [
        "# 10. Peça a quantidade de horas trabalhadas e o valor por hora. Se trabalhou até 40 horas, calcule o salário normalmente (horas × valor por hora).\n",
        "    # Se trabalhou mais de 40 horas, as horas extras devem ter um adicional de 50% (horas extras × valor por hora × 1.5). Crie um algoritmo em Python que realize esse cálculo corretamente.\n",
        "\n",
        "horas = int(input('Digite o número de horas trabalhadas por semana: '))\n",
        "sh = float(input('Digite o valor por hora de serviço: '))\n",
        "\n",
        "if horas <= 40:\n",
        " salario1 = horas*sh\n",
        " salario12 = salario1 * 4\n",
        " print(f'Salário da semana é R${salario1}!')\n",
        " print(f'Salário do mês é R${salario12}!')\n",
        "else:\n",
        "  adicional = horas - 40\n",
        "  salario2 = (40*sh) + (adicional*1.5*sh)\n",
        "  salario21 = salario2 * 4\n",
        "  print(f'Salário da semana é R${salario2}!')\n",
        "  print(f'Salário do mês é R${salario21}!')"
      ],
      "metadata": {
        "colab": {
          "base_uri": "https://localhost:8080/"
        },
        "id": "THJ0K3dmggxP",
        "outputId": "81ae8747-3dae-480d-e31e-634bb28ef49b"
      },
      "execution_count": 105,
      "outputs": [
        {
          "output_type": "stream",
          "name": "stdout",
          "text": [
            "Digite o número de horas trabalhadas por semana: 44\n",
            "Digite o valor por hora de serviço: 20\n",
            "Salário da semana é R$920.0!\n",
            "Salário do mês é R$3680.0!\n"
          ]
        }
      ]
    }
  ]
}